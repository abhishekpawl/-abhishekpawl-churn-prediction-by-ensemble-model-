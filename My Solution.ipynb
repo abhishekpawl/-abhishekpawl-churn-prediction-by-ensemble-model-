{
 "cells": [
  {
   "cell_type": "markdown",
   "metadata": {},
   "source": [
    "Importing the packages required."
   ]
  },
  {
   "cell_type": "code",
   "execution_count": 1,
   "metadata": {},
   "outputs": [],
   "source": [
    "import pandas as pd\n",
    "import numpy as np\n",
    "import matplotlib.pyplot as plt\n",
    "%matplotlib inline"
   ]
  },
  {
   "cell_type": "markdown",
   "metadata": {},
   "source": [
    "Importing the dataset."
   ]
  },
  {
   "cell_type": "code",
   "execution_count": 2,
   "metadata": {},
   "outputs": [],
   "source": [
    "df = pd.read_csv('churn_prediction.csv')"
   ]
  },
  {
   "cell_type": "markdown",
   "metadata": {},
   "source": [
    "The data exploration part."
   ]
  },
  {
   "cell_type": "code",
   "execution_count": 3,
   "metadata": {},
   "outputs": [
    {
     "data": {
      "text/plain": [
       "(28382, 21)"
      ]
     },
     "execution_count": 3,
     "metadata": {},
     "output_type": "execute_result"
    }
   ],
   "source": [
    "df.shape"
   ]
  },
  {
   "cell_type": "code",
   "execution_count": 4,
   "metadata": {},
   "outputs": [
    {
     "data": {
      "text/html": [
       "<div>\n",
       "<style scoped>\n",
       "    .dataframe tbody tr th:only-of-type {\n",
       "        vertical-align: middle;\n",
       "    }\n",
       "\n",
       "    .dataframe tbody tr th {\n",
       "        vertical-align: top;\n",
       "    }\n",
       "\n",
       "    .dataframe thead th {\n",
       "        text-align: right;\n",
       "    }\n",
       "</style>\n",
       "<table border=\"1\" class=\"dataframe\">\n",
       "  <thead>\n",
       "    <tr style=\"text-align: right;\">\n",
       "      <th></th>\n",
       "      <th>customer_id</th>\n",
       "      <th>vintage</th>\n",
       "      <th>age</th>\n",
       "      <th>gender</th>\n",
       "      <th>dependents</th>\n",
       "      <th>occupation</th>\n",
       "      <th>city</th>\n",
       "      <th>customer_nw_category</th>\n",
       "      <th>branch_code</th>\n",
       "      <th>days_since_last_transaction</th>\n",
       "      <th>...</th>\n",
       "      <th>previous_month_end_balance</th>\n",
       "      <th>average_monthly_balance_prevQ</th>\n",
       "      <th>average_monthly_balance_prevQ2</th>\n",
       "      <th>current_month_credit</th>\n",
       "      <th>previous_month_credit</th>\n",
       "      <th>current_month_debit</th>\n",
       "      <th>previous_month_debit</th>\n",
       "      <th>current_month_balance</th>\n",
       "      <th>previous_month_balance</th>\n",
       "      <th>churn</th>\n",
       "    </tr>\n",
       "  </thead>\n",
       "  <tbody>\n",
       "    <tr>\n",
       "      <th>0</th>\n",
       "      <td>1</td>\n",
       "      <td>3135</td>\n",
       "      <td>66</td>\n",
       "      <td>Male</td>\n",
       "      <td>0.0</td>\n",
       "      <td>self_employed</td>\n",
       "      <td>187.0</td>\n",
       "      <td>2</td>\n",
       "      <td>755</td>\n",
       "      <td>224.0</td>\n",
       "      <td>...</td>\n",
       "      <td>1458.71</td>\n",
       "      <td>1458.71</td>\n",
       "      <td>1449.07</td>\n",
       "      <td>0.20</td>\n",
       "      <td>0.20</td>\n",
       "      <td>0.20</td>\n",
       "      <td>0.20</td>\n",
       "      <td>1458.71</td>\n",
       "      <td>1458.71</td>\n",
       "      <td>0</td>\n",
       "    </tr>\n",
       "    <tr>\n",
       "      <th>1</th>\n",
       "      <td>2</td>\n",
       "      <td>310</td>\n",
       "      <td>35</td>\n",
       "      <td>Male</td>\n",
       "      <td>0.0</td>\n",
       "      <td>self_employed</td>\n",
       "      <td>NaN</td>\n",
       "      <td>2</td>\n",
       "      <td>3214</td>\n",
       "      <td>60.0</td>\n",
       "      <td>...</td>\n",
       "      <td>8704.66</td>\n",
       "      <td>7799.26</td>\n",
       "      <td>12419.41</td>\n",
       "      <td>0.56</td>\n",
       "      <td>0.56</td>\n",
       "      <td>5486.27</td>\n",
       "      <td>100.56</td>\n",
       "      <td>6496.78</td>\n",
       "      <td>8787.61</td>\n",
       "      <td>0</td>\n",
       "    </tr>\n",
       "    <tr>\n",
       "      <th>2</th>\n",
       "      <td>4</td>\n",
       "      <td>2356</td>\n",
       "      <td>31</td>\n",
       "      <td>Male</td>\n",
       "      <td>0.0</td>\n",
       "      <td>salaried</td>\n",
       "      <td>146.0</td>\n",
       "      <td>2</td>\n",
       "      <td>41</td>\n",
       "      <td>NaN</td>\n",
       "      <td>...</td>\n",
       "      <td>5815.29</td>\n",
       "      <td>4910.17</td>\n",
       "      <td>2815.94</td>\n",
       "      <td>0.61</td>\n",
       "      <td>0.61</td>\n",
       "      <td>6046.73</td>\n",
       "      <td>259.23</td>\n",
       "      <td>5006.28</td>\n",
       "      <td>5070.14</td>\n",
       "      <td>0</td>\n",
       "    </tr>\n",
       "    <tr>\n",
       "      <th>3</th>\n",
       "      <td>5</td>\n",
       "      <td>478</td>\n",
       "      <td>90</td>\n",
       "      <td>NaN</td>\n",
       "      <td>NaN</td>\n",
       "      <td>self_employed</td>\n",
       "      <td>1020.0</td>\n",
       "      <td>2</td>\n",
       "      <td>582</td>\n",
       "      <td>147.0</td>\n",
       "      <td>...</td>\n",
       "      <td>2291.91</td>\n",
       "      <td>2084.54</td>\n",
       "      <td>1006.54</td>\n",
       "      <td>0.47</td>\n",
       "      <td>0.47</td>\n",
       "      <td>0.47</td>\n",
       "      <td>2143.33</td>\n",
       "      <td>2291.91</td>\n",
       "      <td>1669.79</td>\n",
       "      <td>1</td>\n",
       "    </tr>\n",
       "    <tr>\n",
       "      <th>4</th>\n",
       "      <td>6</td>\n",
       "      <td>2531</td>\n",
       "      <td>42</td>\n",
       "      <td>Male</td>\n",
       "      <td>2.0</td>\n",
       "      <td>self_employed</td>\n",
       "      <td>1494.0</td>\n",
       "      <td>3</td>\n",
       "      <td>388</td>\n",
       "      <td>58.0</td>\n",
       "      <td>...</td>\n",
       "      <td>1401.72</td>\n",
       "      <td>1643.31</td>\n",
       "      <td>1871.12</td>\n",
       "      <td>0.33</td>\n",
       "      <td>714.61</td>\n",
       "      <td>588.62</td>\n",
       "      <td>1538.06</td>\n",
       "      <td>1157.15</td>\n",
       "      <td>1677.16</td>\n",
       "      <td>1</td>\n",
       "    </tr>\n",
       "  </tbody>\n",
       "</table>\n",
       "<p>5 rows × 21 columns</p>\n",
       "</div>"
      ],
      "text/plain": [
       "   customer_id  vintage  age gender  dependents     occupation    city  \\\n",
       "0            1     3135   66   Male         0.0  self_employed   187.0   \n",
       "1            2      310   35   Male         0.0  self_employed     NaN   \n",
       "2            4     2356   31   Male         0.0       salaried   146.0   \n",
       "3            5      478   90    NaN         NaN  self_employed  1020.0   \n",
       "4            6     2531   42   Male         2.0  self_employed  1494.0   \n",
       "\n",
       "   customer_nw_category  branch_code  days_since_last_transaction  ...  \\\n",
       "0                     2          755                        224.0  ...   \n",
       "1                     2         3214                         60.0  ...   \n",
       "2                     2           41                          NaN  ...   \n",
       "3                     2          582                        147.0  ...   \n",
       "4                     3          388                         58.0  ...   \n",
       "\n",
       "   previous_month_end_balance  average_monthly_balance_prevQ  \\\n",
       "0                     1458.71                        1458.71   \n",
       "1                     8704.66                        7799.26   \n",
       "2                     5815.29                        4910.17   \n",
       "3                     2291.91                        2084.54   \n",
       "4                     1401.72                        1643.31   \n",
       "\n",
       "   average_monthly_balance_prevQ2  current_month_credit  \\\n",
       "0                         1449.07                  0.20   \n",
       "1                        12419.41                  0.56   \n",
       "2                         2815.94                  0.61   \n",
       "3                         1006.54                  0.47   \n",
       "4                         1871.12                  0.33   \n",
       "\n",
       "   previous_month_credit  current_month_debit  previous_month_debit  \\\n",
       "0                   0.20                 0.20                  0.20   \n",
       "1                   0.56              5486.27                100.56   \n",
       "2                   0.61              6046.73                259.23   \n",
       "3                   0.47                 0.47               2143.33   \n",
       "4                 714.61               588.62               1538.06   \n",
       "\n",
       "   current_month_balance  previous_month_balance  churn  \n",
       "0                1458.71                 1458.71      0  \n",
       "1                6496.78                 8787.61      0  \n",
       "2                5006.28                 5070.14      0  \n",
       "3                2291.91                 1669.79      1  \n",
       "4                1157.15                 1677.16      1  \n",
       "\n",
       "[5 rows x 21 columns]"
      ]
     },
     "execution_count": 4,
     "metadata": {},
     "output_type": "execute_result"
    }
   ],
   "source": [
    "df.head()"
   ]
  },
  {
   "cell_type": "code",
   "execution_count": 5,
   "metadata": {},
   "outputs": [
    {
     "data": {
      "text/html": [
       "<div>\n",
       "<style scoped>\n",
       "    .dataframe tbody tr th:only-of-type {\n",
       "        vertical-align: middle;\n",
       "    }\n",
       "\n",
       "    .dataframe tbody tr th {\n",
       "        vertical-align: top;\n",
       "    }\n",
       "\n",
       "    .dataframe thead th {\n",
       "        text-align: right;\n",
       "    }\n",
       "</style>\n",
       "<table border=\"1\" class=\"dataframe\">\n",
       "  <thead>\n",
       "    <tr style=\"text-align: right;\">\n",
       "      <th></th>\n",
       "      <th>customer_id</th>\n",
       "      <th>vintage</th>\n",
       "      <th>age</th>\n",
       "      <th>dependents</th>\n",
       "      <th>city</th>\n",
       "      <th>customer_nw_category</th>\n",
       "      <th>branch_code</th>\n",
       "      <th>days_since_last_transaction</th>\n",
       "      <th>current_balance</th>\n",
       "      <th>previous_month_end_balance</th>\n",
       "      <th>average_monthly_balance_prevQ</th>\n",
       "      <th>average_monthly_balance_prevQ2</th>\n",
       "      <th>current_month_credit</th>\n",
       "      <th>previous_month_credit</th>\n",
       "      <th>current_month_debit</th>\n",
       "      <th>previous_month_debit</th>\n",
       "      <th>current_month_balance</th>\n",
       "      <th>previous_month_balance</th>\n",
       "      <th>churn</th>\n",
       "    </tr>\n",
       "  </thead>\n",
       "  <tbody>\n",
       "    <tr>\n",
       "      <th>count</th>\n",
       "      <td>28382.000000</td>\n",
       "      <td>28382.000000</td>\n",
       "      <td>28382.000000</td>\n",
       "      <td>25919.000000</td>\n",
       "      <td>27579.000000</td>\n",
       "      <td>28382.000000</td>\n",
       "      <td>28382.000000</td>\n",
       "      <td>25159.000000</td>\n",
       "      <td>2.838200e+04</td>\n",
       "      <td>2.838200e+04</td>\n",
       "      <td>2.838200e+04</td>\n",
       "      <td>2.838200e+04</td>\n",
       "      <td>2.838200e+04</td>\n",
       "      <td>2.838200e+04</td>\n",
       "      <td>2.838200e+04</td>\n",
       "      <td>2.838200e+04</td>\n",
       "      <td>2.838200e+04</td>\n",
       "      <td>2.838200e+04</td>\n",
       "      <td>28382.000000</td>\n",
       "    </tr>\n",
       "    <tr>\n",
       "      <th>mean</th>\n",
       "      <td>15143.508667</td>\n",
       "      <td>2364.336446</td>\n",
       "      <td>48.208336</td>\n",
       "      <td>0.347236</td>\n",
       "      <td>796.109576</td>\n",
       "      <td>2.225530</td>\n",
       "      <td>925.975019</td>\n",
       "      <td>69.997814</td>\n",
       "      <td>7.380552e+03</td>\n",
       "      <td>7.495771e+03</td>\n",
       "      <td>7.496780e+03</td>\n",
       "      <td>7.124209e+03</td>\n",
       "      <td>3.433252e+03</td>\n",
       "      <td>3.261694e+03</td>\n",
       "      <td>3.658745e+03</td>\n",
       "      <td>3.339761e+03</td>\n",
       "      <td>7.451133e+03</td>\n",
       "      <td>7.495177e+03</td>\n",
       "      <td>0.185329</td>\n",
       "    </tr>\n",
       "    <tr>\n",
       "      <th>std</th>\n",
       "      <td>8746.454456</td>\n",
       "      <td>1610.124506</td>\n",
       "      <td>17.807163</td>\n",
       "      <td>0.997661</td>\n",
       "      <td>432.872102</td>\n",
       "      <td>0.660443</td>\n",
       "      <td>937.799129</td>\n",
       "      <td>86.341098</td>\n",
       "      <td>4.259871e+04</td>\n",
       "      <td>4.252935e+04</td>\n",
       "      <td>4.172622e+04</td>\n",
       "      <td>4.457581e+04</td>\n",
       "      <td>7.707145e+04</td>\n",
       "      <td>2.968889e+04</td>\n",
       "      <td>5.198542e+04</td>\n",
       "      <td>2.430111e+04</td>\n",
       "      <td>4.203394e+04</td>\n",
       "      <td>4.243198e+04</td>\n",
       "      <td>0.388571</td>\n",
       "    </tr>\n",
       "    <tr>\n",
       "      <th>min</th>\n",
       "      <td>1.000000</td>\n",
       "      <td>180.000000</td>\n",
       "      <td>1.000000</td>\n",
       "      <td>0.000000</td>\n",
       "      <td>0.000000</td>\n",
       "      <td>1.000000</td>\n",
       "      <td>1.000000</td>\n",
       "      <td>0.000000</td>\n",
       "      <td>-5.503960e+03</td>\n",
       "      <td>-3.149570e+03</td>\n",
       "      <td>1.428690e+03</td>\n",
       "      <td>-1.650610e+04</td>\n",
       "      <td>1.000000e-02</td>\n",
       "      <td>1.000000e-02</td>\n",
       "      <td>1.000000e-02</td>\n",
       "      <td>1.000000e-02</td>\n",
       "      <td>-3.374180e+03</td>\n",
       "      <td>-5.171920e+03</td>\n",
       "      <td>0.000000</td>\n",
       "    </tr>\n",
       "    <tr>\n",
       "      <th>25%</th>\n",
       "      <td>7557.250000</td>\n",
       "      <td>1121.000000</td>\n",
       "      <td>36.000000</td>\n",
       "      <td>0.000000</td>\n",
       "      <td>409.000000</td>\n",
       "      <td>2.000000</td>\n",
       "      <td>176.000000</td>\n",
       "      <td>11.000000</td>\n",
       "      <td>1.784470e+03</td>\n",
       "      <td>1.906000e+03</td>\n",
       "      <td>2.180945e+03</td>\n",
       "      <td>1.832507e+03</td>\n",
       "      <td>3.100000e-01</td>\n",
       "      <td>3.300000e-01</td>\n",
       "      <td>4.100000e-01</td>\n",
       "      <td>4.100000e-01</td>\n",
       "      <td>1.996765e+03</td>\n",
       "      <td>2.074408e+03</td>\n",
       "      <td>0.000000</td>\n",
       "    </tr>\n",
       "    <tr>\n",
       "      <th>50%</th>\n",
       "      <td>15150.500000</td>\n",
       "      <td>2018.000000</td>\n",
       "      <td>46.000000</td>\n",
       "      <td>0.000000</td>\n",
       "      <td>834.000000</td>\n",
       "      <td>2.000000</td>\n",
       "      <td>572.000000</td>\n",
       "      <td>30.000000</td>\n",
       "      <td>3.281255e+03</td>\n",
       "      <td>3.379915e+03</td>\n",
       "      <td>3.542865e+03</td>\n",
       "      <td>3.359600e+03</td>\n",
       "      <td>6.100000e-01</td>\n",
       "      <td>6.300000e-01</td>\n",
       "      <td>9.193000e+01</td>\n",
       "      <td>1.099600e+02</td>\n",
       "      <td>3.447995e+03</td>\n",
       "      <td>3.465235e+03</td>\n",
       "      <td>0.000000</td>\n",
       "    </tr>\n",
       "    <tr>\n",
       "      <th>75%</th>\n",
       "      <td>22706.750000</td>\n",
       "      <td>3176.000000</td>\n",
       "      <td>60.000000</td>\n",
       "      <td>0.000000</td>\n",
       "      <td>1096.000000</td>\n",
       "      <td>3.000000</td>\n",
       "      <td>1440.000000</td>\n",
       "      <td>95.000000</td>\n",
       "      <td>6.635820e+03</td>\n",
       "      <td>6.656535e+03</td>\n",
       "      <td>6.666887e+03</td>\n",
       "      <td>6.517960e+03</td>\n",
       "      <td>7.072725e+02</td>\n",
       "      <td>7.492350e+02</td>\n",
       "      <td>1.360435e+03</td>\n",
       "      <td>1.357553e+03</td>\n",
       "      <td>6.667958e+03</td>\n",
       "      <td>6.654693e+03</td>\n",
       "      <td>0.000000</td>\n",
       "    </tr>\n",
       "    <tr>\n",
       "      <th>max</th>\n",
       "      <td>30301.000000</td>\n",
       "      <td>12899.000000</td>\n",
       "      <td>90.000000</td>\n",
       "      <td>52.000000</td>\n",
       "      <td>1649.000000</td>\n",
       "      <td>3.000000</td>\n",
       "      <td>4782.000000</td>\n",
       "      <td>365.000000</td>\n",
       "      <td>5.905904e+06</td>\n",
       "      <td>5.740439e+06</td>\n",
       "      <td>5.700290e+06</td>\n",
       "      <td>5.010170e+06</td>\n",
       "      <td>1.226985e+07</td>\n",
       "      <td>2.361808e+06</td>\n",
       "      <td>7.637857e+06</td>\n",
       "      <td>1.414168e+06</td>\n",
       "      <td>5.778185e+06</td>\n",
       "      <td>5.720144e+06</td>\n",
       "      <td>1.000000</td>\n",
       "    </tr>\n",
       "  </tbody>\n",
       "</table>\n",
       "</div>"
      ],
      "text/plain": [
       "        customer_id       vintage           age    dependents          city  \\\n",
       "count  28382.000000  28382.000000  28382.000000  25919.000000  27579.000000   \n",
       "mean   15143.508667   2364.336446     48.208336      0.347236    796.109576   \n",
       "std     8746.454456   1610.124506     17.807163      0.997661    432.872102   \n",
       "min        1.000000    180.000000      1.000000      0.000000      0.000000   \n",
       "25%     7557.250000   1121.000000     36.000000      0.000000    409.000000   \n",
       "50%    15150.500000   2018.000000     46.000000      0.000000    834.000000   \n",
       "75%    22706.750000   3176.000000     60.000000      0.000000   1096.000000   \n",
       "max    30301.000000  12899.000000     90.000000     52.000000   1649.000000   \n",
       "\n",
       "       customer_nw_category   branch_code  days_since_last_transaction  \\\n",
       "count          28382.000000  28382.000000                 25159.000000   \n",
       "mean               2.225530    925.975019                    69.997814   \n",
       "std                0.660443    937.799129                    86.341098   \n",
       "min                1.000000      1.000000                     0.000000   \n",
       "25%                2.000000    176.000000                    11.000000   \n",
       "50%                2.000000    572.000000                    30.000000   \n",
       "75%                3.000000   1440.000000                    95.000000   \n",
       "max                3.000000   4782.000000                   365.000000   \n",
       "\n",
       "       current_balance  previous_month_end_balance  \\\n",
       "count     2.838200e+04                2.838200e+04   \n",
       "mean      7.380552e+03                7.495771e+03   \n",
       "std       4.259871e+04                4.252935e+04   \n",
       "min      -5.503960e+03               -3.149570e+03   \n",
       "25%       1.784470e+03                1.906000e+03   \n",
       "50%       3.281255e+03                3.379915e+03   \n",
       "75%       6.635820e+03                6.656535e+03   \n",
       "max       5.905904e+06                5.740439e+06   \n",
       "\n",
       "       average_monthly_balance_prevQ  average_monthly_balance_prevQ2  \\\n",
       "count                   2.838200e+04                    2.838200e+04   \n",
       "mean                    7.496780e+03                    7.124209e+03   \n",
       "std                     4.172622e+04                    4.457581e+04   \n",
       "min                     1.428690e+03                   -1.650610e+04   \n",
       "25%                     2.180945e+03                    1.832507e+03   \n",
       "50%                     3.542865e+03                    3.359600e+03   \n",
       "75%                     6.666887e+03                    6.517960e+03   \n",
       "max                     5.700290e+06                    5.010170e+06   \n",
       "\n",
       "       current_month_credit  previous_month_credit  current_month_debit  \\\n",
       "count          2.838200e+04           2.838200e+04         2.838200e+04   \n",
       "mean           3.433252e+03           3.261694e+03         3.658745e+03   \n",
       "std            7.707145e+04           2.968889e+04         5.198542e+04   \n",
       "min            1.000000e-02           1.000000e-02         1.000000e-02   \n",
       "25%            3.100000e-01           3.300000e-01         4.100000e-01   \n",
       "50%            6.100000e-01           6.300000e-01         9.193000e+01   \n",
       "75%            7.072725e+02           7.492350e+02         1.360435e+03   \n",
       "max            1.226985e+07           2.361808e+06         7.637857e+06   \n",
       "\n",
       "       previous_month_debit  current_month_balance  previous_month_balance  \\\n",
       "count          2.838200e+04           2.838200e+04            2.838200e+04   \n",
       "mean           3.339761e+03           7.451133e+03            7.495177e+03   \n",
       "std            2.430111e+04           4.203394e+04            4.243198e+04   \n",
       "min            1.000000e-02          -3.374180e+03           -5.171920e+03   \n",
       "25%            4.100000e-01           1.996765e+03            2.074408e+03   \n",
       "50%            1.099600e+02           3.447995e+03            3.465235e+03   \n",
       "75%            1.357553e+03           6.667958e+03            6.654693e+03   \n",
       "max            1.414168e+06           5.778185e+06            5.720144e+06   \n",
       "\n",
       "              churn  \n",
       "count  28382.000000  \n",
       "mean       0.185329  \n",
       "std        0.388571  \n",
       "min        0.000000  \n",
       "25%        0.000000  \n",
       "50%        0.000000  \n",
       "75%        0.000000  \n",
       "max        1.000000  "
      ]
     },
     "execution_count": 5,
     "metadata": {},
     "output_type": "execute_result"
    }
   ],
   "source": [
    "df.describe()"
   ]
  },
  {
   "cell_type": "markdown",
   "metadata": {},
   "source": [
    "Creating age-groups and replacing them."
   ]
  },
  {
   "cell_type": "code",
   "execution_count": 6,
   "metadata": {},
   "outputs": [],
   "source": [
    "bin = [1, 20, 60, 90]\n",
    "group = ['Young', 'MiddleAged', 'Old']\n",
    "df['age'] = pd.cut(df['age'], bin, labels = group)"
   ]
  },
  {
   "cell_type": "code",
   "execution_count": 7,
   "metadata": {},
   "outputs": [
    {
     "data": {
      "text/plain": [
       "0           Old\n",
       "1    MiddleAged\n",
       "2    MiddleAged\n",
       "3           Old\n",
       "4    MiddleAged\n",
       "5    MiddleAged\n",
       "6           Old\n",
       "7    MiddleAged\n",
       "8    MiddleAged\n",
       "9    MiddleAged\n",
       "Name: age, dtype: category\n",
       "Categories (3, object): [Young < MiddleAged < Old]"
      ]
     },
     "execution_count": 7,
     "metadata": {},
     "output_type": "execute_result"
    }
   ],
   "source": [
    "df['age'].head(10)"
   ]
  },
  {
   "cell_type": "markdown",
   "metadata": {},
   "source": [
    "Checking for missing values."
   ]
  },
  {
   "cell_type": "code",
   "execution_count": 8,
   "metadata": {},
   "outputs": [
    {
     "data": {
      "text/plain": [
       "customer_id                          0\n",
       "vintage                              0\n",
       "age                                  4\n",
       "gender                             525\n",
       "dependents                        2463\n",
       "occupation                          80\n",
       "city                               803\n",
       "customer_nw_category                 0\n",
       "branch_code                          0\n",
       "days_since_last_transaction       3223\n",
       "current_balance                      0\n",
       "previous_month_end_balance           0\n",
       "average_monthly_balance_prevQ        0\n",
       "average_monthly_balance_prevQ2       0\n",
       "current_month_credit                 0\n",
       "previous_month_credit                0\n",
       "current_month_debit                  0\n",
       "previous_month_debit                 0\n",
       "current_month_balance                0\n",
       "previous_month_balance               0\n",
       "churn                                0\n",
       "dtype: int64"
      ]
     },
     "execution_count": 8,
     "metadata": {},
     "output_type": "execute_result"
    }
   ],
   "source": [
    "df.isnull().sum()"
   ]
  },
  {
   "cell_type": "code",
   "execution_count": 9,
   "metadata": {},
   "outputs": [
    {
     "data": {
      "text/plain": [
       "MiddleAged    20248\n",
       "Old            7052\n",
       "Young          1078\n",
       "Name: age, dtype: int64"
      ]
     },
     "execution_count": 9,
     "metadata": {},
     "output_type": "execute_result"
    }
   ],
   "source": [
    "df['age'].value_counts()"
   ]
  },
  {
   "cell_type": "markdown",
   "metadata": {},
   "source": [
    "Filling missing values of age by grouping customer_nw_category variables."
   ]
  },
  {
   "cell_type": "code",
   "execution_count": 10,
   "metadata": {},
   "outputs": [
    {
     "data": {
      "text/plain": [
       "age         customer_nw_category\n",
       "Young       2                         562\n",
       "            3                         327\n",
       "            1                         189\n",
       "MiddleAged  2                       10279\n",
       "            3                        7642\n",
       "            1                        2327\n",
       "Old         2                        3716\n",
       "            3                        2142\n",
       "            1                        1194\n",
       "Name: customer_nw_category, dtype: int64"
      ]
     },
     "execution_count": 10,
     "metadata": {},
     "output_type": "execute_result"
    }
   ],
   "source": [
    "df['customer_nw_category'].groupby(df['age']).value_counts()"
   ]
  },
  {
   "cell_type": "code",
   "execution_count": 11,
   "metadata": {},
   "outputs": [],
   "source": [
    "df['age'].fillna(value = 'MiddleAged', inplace = True)"
   ]
  },
  {
   "cell_type": "code",
   "execution_count": 12,
   "metadata": {},
   "outputs": [
    {
     "data": {
      "text/plain": [
       "MiddleAged    20252\n",
       "Old            7052\n",
       "Young          1078\n",
       "Name: age, dtype: int64"
      ]
     },
     "execution_count": 12,
     "metadata": {},
     "output_type": "execute_result"
    }
   ],
   "source": [
    "df['age'].value_counts()"
   ]
  },
  {
   "cell_type": "code",
   "execution_count": 13,
   "metadata": {},
   "outputs": [
    {
     "data": {
      "text/html": [
       "<div>\n",
       "<style scoped>\n",
       "    .dataframe tbody tr th:only-of-type {\n",
       "        vertical-align: middle;\n",
       "    }\n",
       "\n",
       "    .dataframe tbody tr th {\n",
       "        vertical-align: top;\n",
       "    }\n",
       "\n",
       "    .dataframe thead th {\n",
       "        text-align: right;\n",
       "    }\n",
       "</style>\n",
       "<table border=\"1\" class=\"dataframe\">\n",
       "  <thead>\n",
       "    <tr style=\"text-align: right;\">\n",
       "      <th>customer_nw_category</th>\n",
       "      <th>1</th>\n",
       "      <th>2</th>\n",
       "      <th>3</th>\n",
       "    </tr>\n",
       "    <tr>\n",
       "      <th>occupation</th>\n",
       "      <th></th>\n",
       "      <th></th>\n",
       "      <th></th>\n",
       "    </tr>\n",
       "  </thead>\n",
       "  <tbody>\n",
       "    <tr>\n",
       "      <th>company</th>\n",
       "      <td>6</td>\n",
       "      <td>17</td>\n",
       "      <td>17</td>\n",
       "    </tr>\n",
       "    <tr>\n",
       "      <th>retired</th>\n",
       "      <td>232</td>\n",
       "      <td>1047</td>\n",
       "      <td>745</td>\n",
       "    </tr>\n",
       "    <tr>\n",
       "      <th>salaried</th>\n",
       "      <td>800</td>\n",
       "      <td>3270</td>\n",
       "      <td>2634</td>\n",
       "    </tr>\n",
       "    <tr>\n",
       "      <th>self_employed</th>\n",
       "      <td>2330</td>\n",
       "      <td>9091</td>\n",
       "      <td>6055</td>\n",
       "    </tr>\n",
       "    <tr>\n",
       "      <th>student</th>\n",
       "      <td>338</td>\n",
       "      <td>1099</td>\n",
       "      <td>621</td>\n",
       "    </tr>\n",
       "  </tbody>\n",
       "</table>\n",
       "</div>"
      ],
      "text/plain": [
       "customer_nw_category     1     2     3\n",
       "occupation                            \n",
       "company                  6    17    17\n",
       "retired                232  1047   745\n",
       "salaried               800  3270  2634\n",
       "self_employed         2330  9091  6055\n",
       "student                338  1099   621"
      ]
     },
     "execution_count": 13,
     "metadata": {},
     "output_type": "execute_result"
    }
   ],
   "source": [
    "tab1 = pd.crosstab(df['occupation'], df['customer_nw_category'])\n",
    "tab1"
   ]
  },
  {
   "cell_type": "markdown",
   "metadata": {},
   "source": [
    "Filling missing occupation values by grouping age-wise."
   ]
  },
  {
   "cell_type": "code",
   "execution_count": 14,
   "metadata": {},
   "outputs": [
    {
     "data": {
      "text/html": [
       "<div>\n",
       "<style scoped>\n",
       "    .dataframe tbody tr th:only-of-type {\n",
       "        vertical-align: middle;\n",
       "    }\n",
       "\n",
       "    .dataframe tbody tr th {\n",
       "        vertical-align: top;\n",
       "    }\n",
       "\n",
       "    .dataframe thead th {\n",
       "        text-align: right;\n",
       "    }\n",
       "</style>\n",
       "<table border=\"1\" class=\"dataframe\">\n",
       "  <thead>\n",
       "    <tr style=\"text-align: right;\">\n",
       "      <th>age</th>\n",
       "      <th>Young</th>\n",
       "      <th>MiddleAged</th>\n",
       "      <th>Old</th>\n",
       "    </tr>\n",
       "    <tr>\n",
       "      <th>occupation</th>\n",
       "      <th></th>\n",
       "      <th></th>\n",
       "      <th></th>\n",
       "    </tr>\n",
       "  </thead>\n",
       "  <tbody>\n",
       "    <tr>\n",
       "      <th>company</th>\n",
       "      <td>1</td>\n",
       "      <td>14</td>\n",
       "      <td>25</td>\n",
       "    </tr>\n",
       "    <tr>\n",
       "      <th>retired</th>\n",
       "      <td>0</td>\n",
       "      <td>77</td>\n",
       "      <td>1947</td>\n",
       "    </tr>\n",
       "    <tr>\n",
       "      <th>salaried</th>\n",
       "      <td>15</td>\n",
       "      <td>6020</td>\n",
       "      <td>669</td>\n",
       "    </tr>\n",
       "    <tr>\n",
       "      <th>self_employed</th>\n",
       "      <td>87</td>\n",
       "      <td>13019</td>\n",
       "      <td>4370</td>\n",
       "    </tr>\n",
       "    <tr>\n",
       "      <th>student</th>\n",
       "      <td>975</td>\n",
       "      <td>1081</td>\n",
       "      <td>2</td>\n",
       "    </tr>\n",
       "  </tbody>\n",
       "</table>\n",
       "</div>"
      ],
      "text/plain": [
       "age            Young  MiddleAged   Old\n",
       "occupation                            \n",
       "company            1          14    25\n",
       "retired            0          77  1947\n",
       "salaried          15        6020   669\n",
       "self_employed     87       13019  4370\n",
       "student          975        1081     2"
      ]
     },
     "execution_count": 14,
     "metadata": {},
     "output_type": "execute_result"
    }
   ],
   "source": [
    "tab2 = pd.crosstab(df['occupation'], df['age'])\n",
    "tab2"
   ]
  },
  {
   "cell_type": "code",
   "execution_count": 15,
   "metadata": {},
   "outputs": [
    {
     "name": "stderr",
     "output_type": "stream",
     "text": [
      "C:\\ProgramData\\Anaconda3\\lib\\site-packages\\ipykernel_launcher.py:6: SettingWithCopyWarning: \n",
      "A value is trying to be set on a copy of a slice from a DataFrame\n",
      "\n",
      "See the caveats in the documentation: https://pandas.pydata.org/pandas-docs/stable/user_guide/indexing.html#returning-a-view-versus-a-copy\n",
      "  \n"
     ]
    }
   ],
   "source": [
    "for i in range(0, len(df)):\n",
    "    if pd.isnull(df['occupation'][i])==True:\n",
    "        if df['age'][i]=='Young':\n",
    "            df['occupation'][i] = 'student'\n",
    "        elif df['age'][i]=='MiddleAged' or df['age'][i]=='Old':\n",
    "            df['occupation'][i] = 'self_employed'"
   ]
  },
  {
   "cell_type": "code",
   "execution_count": 16,
   "metadata": {},
   "outputs": [
    {
     "data": {
      "text/plain": [
       "0"
      ]
     },
     "execution_count": 16,
     "metadata": {},
     "output_type": "execute_result"
    }
   ],
   "source": [
    "df['occupation'].isnull().sum()"
   ]
  },
  {
   "cell_type": "markdown",
   "metadata": {},
   "source": [
    "Filling missing gender values by grouping according to occupation and customer_nw_category features."
   ]
  },
  {
   "cell_type": "code",
   "execution_count": 17,
   "metadata": {},
   "outputs": [
    {
     "data": {
      "text/plain": [
       "age         gender\n",
       "Young       Male        559\n",
       "            Female      518\n",
       "MiddleAged  Male      11863\n",
       "            Female     8385\n",
       "Old         Male       4126\n",
       "            Female     2406\n",
       "Name: gender, dtype: int64"
      ]
     },
     "execution_count": 17,
     "metadata": {},
     "output_type": "execute_result"
    }
   ],
   "source": [
    "df['gender'].groupby(df['age']).value_counts()"
   ]
  },
  {
   "cell_type": "code",
   "execution_count": 18,
   "metadata": {},
   "outputs": [],
   "source": [
    "tab1 = pd.crosstab(df['occupation'], df['age']).groupby(df['gender'])"
   ]
  },
  {
   "cell_type": "code",
   "execution_count": 19,
   "metadata": {},
   "outputs": [
    {
     "data": {
      "text/html": [
       "<div>\n",
       "<style scoped>\n",
       "    .dataframe tbody tr th:only-of-type {\n",
       "        vertical-align: middle;\n",
       "    }\n",
       "\n",
       "    .dataframe tbody tr th {\n",
       "        vertical-align: top;\n",
       "    }\n",
       "\n",
       "    .dataframe thead th {\n",
       "        text-align: right;\n",
       "    }\n",
       "</style>\n",
       "<table border=\"1\" class=\"dataframe\">\n",
       "  <thead>\n",
       "    <tr style=\"text-align: right;\">\n",
       "      <th>age</th>\n",
       "      <th>Young</th>\n",
       "      <th>MiddleAged</th>\n",
       "      <th>Old</th>\n",
       "    </tr>\n",
       "    <tr>\n",
       "      <th>occupation</th>\n",
       "      <th></th>\n",
       "      <th></th>\n",
       "      <th></th>\n",
       "    </tr>\n",
       "  </thead>\n",
       "  <tbody>\n",
       "    <tr>\n",
       "      <th>company</th>\n",
       "      <td>1</td>\n",
       "      <td>14</td>\n",
       "      <td>25</td>\n",
       "    </tr>\n",
       "    <tr>\n",
       "      <th>retired</th>\n",
       "      <td>0</td>\n",
       "      <td>77</td>\n",
       "      <td>1947</td>\n",
       "    </tr>\n",
       "    <tr>\n",
       "      <th>salaried</th>\n",
       "      <td>15</td>\n",
       "      <td>6020</td>\n",
       "      <td>669</td>\n",
       "    </tr>\n",
       "    <tr>\n",
       "      <th>self_employed</th>\n",
       "      <td>87</td>\n",
       "      <td>13060</td>\n",
       "      <td>4409</td>\n",
       "    </tr>\n",
       "    <tr>\n",
       "      <th>student</th>\n",
       "      <td>975</td>\n",
       "      <td>1081</td>\n",
       "      <td>2</td>\n",
       "    </tr>\n",
       "  </tbody>\n",
       "</table>\n",
       "</div>"
      ],
      "text/plain": [
       "age            Young  MiddleAged   Old\n",
       "occupation                            \n",
       "company            1          14    25\n",
       "retired            0          77  1947\n",
       "salaried          15        6020   669\n",
       "self_employed     87       13060  4409\n",
       "student          975        1081     2"
      ]
     },
     "execution_count": 19,
     "metadata": {},
     "output_type": "execute_result"
    }
   ],
   "source": [
    "tab1.head()"
   ]
  },
  {
   "cell_type": "code",
   "execution_count": 20,
   "metadata": {},
   "outputs": [
    {
     "name": "stdout",
     "output_type": "stream",
     "text": [
      "For customer_nw_category 1 and occupation: company\n",
      "Male\n",
      "For customer_nw_category 1 and occupation: retired\n",
      "Male\n",
      "For customer_nw_category 1 and occupation: salaried\n",
      "Male\n",
      "For customer_nw_category 1 and occupation: self_employed\n",
      "Female\n",
      "For customer_nw_category 1 and occupation: student\n",
      "Female\n",
      "For customer_nw_category 2 and occupation: company\n",
      "Male\n",
      "For customer_nw_category 2 and occupation: retired\n",
      "Male\n",
      "For customer_nw_category 2 and occupation: salaried\n",
      "Male\n",
      "For customer_nw_category 2 and occupation: self_employed\n",
      "Male\n",
      "For customer_nw_category 2 and occupation: student\n",
      "Male\n",
      "For customer_nw_category 3 and occupation: company\n",
      "Male\n",
      "For customer_nw_category 3 and occupation: retired\n",
      "Male\n",
      "For customer_nw_category 3 and occupation: salaried\n",
      "Male\n",
      "For customer_nw_category 3 and occupation: self_employed\n",
      "Male\n",
      "For customer_nw_category 3 and occupation: student\n",
      "Male\n"
     ]
    }
   ],
   "source": [
    "l1 = [1, 2, 3]\n",
    "l2 = ['company', 'retired', 'salaried', 'self_employed', 'student']\n",
    "\n",
    "for i in l1:\n",
    "    for j in l2:\n",
    "        print('For customer_nw_category', i, 'and occupation:', j)\n",
    "        print(df['gender'][df['occupation']==j][df['customer_nw_category']==i].mode()[0])"
   ]
  },
  {
   "cell_type": "code",
   "execution_count": 21,
   "metadata": {},
   "outputs": [
    {
     "data": {
      "text/plain": [
       "customer_id                          0\n",
       "vintage                              0\n",
       "age                                  0\n",
       "gender                             525\n",
       "dependents                        2463\n",
       "occupation                           0\n",
       "city                               803\n",
       "customer_nw_category                 0\n",
       "branch_code                          0\n",
       "days_since_last_transaction       3223\n",
       "current_balance                      0\n",
       "previous_month_end_balance           0\n",
       "average_monthly_balance_prevQ        0\n",
       "average_monthly_balance_prevQ2       0\n",
       "current_month_credit                 0\n",
       "previous_month_credit                0\n",
       "current_month_debit                  0\n",
       "previous_month_debit                 0\n",
       "current_month_balance                0\n",
       "previous_month_balance               0\n",
       "churn                                0\n",
       "dtype: int64"
      ]
     },
     "execution_count": 21,
     "metadata": {},
     "output_type": "execute_result"
    }
   ],
   "source": [
    "df.isnull().sum()"
   ]
  },
  {
   "cell_type": "code",
   "execution_count": 22,
   "metadata": {},
   "outputs": [
    {
     "name": "stderr",
     "output_type": "stream",
     "text": [
      "C:\\ProgramData\\Anaconda3\\lib\\site-packages\\ipykernel_launcher.py:9: SettingWithCopyWarning: \n",
      "A value is trying to be set on a copy of a slice from a DataFrame\n",
      "\n",
      "See the caveats in the documentation: https://pandas.pydata.org/pandas-docs/stable/user_guide/indexing.html#returning-a-view-versus-a-copy\n",
      "  if __name__ == '__main__':\n",
      "C:\\ProgramData\\Anaconda3\\lib\\site-packages\\ipykernel_launcher.py:5: SettingWithCopyWarning: \n",
      "A value is trying to be set on a copy of a slice from a DataFrame\n",
      "\n",
      "See the caveats in the documentation: https://pandas.pydata.org/pandas-docs/stable/user_guide/indexing.html#returning-a-view-versus-a-copy\n",
      "  \"\"\"\n",
      "C:\\ProgramData\\Anaconda3\\lib\\site-packages\\ipykernel_launcher.py:7: SettingWithCopyWarning: \n",
      "A value is trying to be set on a copy of a slice from a DataFrame\n",
      "\n",
      "See the caveats in the documentation: https://pandas.pydata.org/pandas-docs/stable/user_guide/indexing.html#returning-a-view-versus-a-copy\n",
      "  import sys\n"
     ]
    }
   ],
   "source": [
    "for i in range(0, len(df)):\n",
    "    if pd.isnull(df['gender'][i])==True:\n",
    "        if df['customer_nw_category'][i]==1:\n",
    "            if df['occupation'][i]=='self_employed' or df['occupation'][i]=='student':\n",
    "                df['gender'][i] = 'Female'\n",
    "            else:\n",
    "                df['gender'][i] = 'Male'\n",
    "        else:\n",
    "            df['gender'][i] = 'Male'"
   ]
  },
  {
   "cell_type": "code",
   "execution_count": 23,
   "metadata": {},
   "outputs": [
    {
     "data": {
      "text/plain": [
       "customer_id                          0\n",
       "vintage                              0\n",
       "age                                  0\n",
       "gender                               0\n",
       "dependents                        2463\n",
       "occupation                           0\n",
       "city                               803\n",
       "customer_nw_category                 0\n",
       "branch_code                          0\n",
       "days_since_last_transaction       3223\n",
       "current_balance                      0\n",
       "previous_month_end_balance           0\n",
       "average_monthly_balance_prevQ        0\n",
       "average_monthly_balance_prevQ2       0\n",
       "current_month_credit                 0\n",
       "previous_month_credit                0\n",
       "current_month_debit                  0\n",
       "previous_month_debit                 0\n",
       "current_month_balance                0\n",
       "previous_month_balance               0\n",
       "churn                                0\n",
       "dtype: int64"
      ]
     },
     "execution_count": 23,
     "metadata": {},
     "output_type": "execute_result"
    }
   ],
   "source": [
    "df.isnull().sum()"
   ]
  },
  {
   "cell_type": "code",
   "execution_count": 24,
   "metadata": {},
   "outputs": [
    {
     "data": {
      "text/plain": [
       "customer_id                          int64\n",
       "vintage                              int64\n",
       "age                               category\n",
       "gender                              object\n",
       "dependents                         float64\n",
       "occupation                          object\n",
       "city                               float64\n",
       "customer_nw_category                 int64\n",
       "branch_code                          int64\n",
       "days_since_last_transaction        float64\n",
       "current_balance                    float64\n",
       "previous_month_end_balance         float64\n",
       "average_monthly_balance_prevQ      float64\n",
       "average_monthly_balance_prevQ2     float64\n",
       "current_month_credit               float64\n",
       "previous_month_credit              float64\n",
       "current_month_debit                float64\n",
       "previous_month_debit               float64\n",
       "current_month_balance              float64\n",
       "previous_month_balance             float64\n",
       "churn                                int64\n",
       "dtype: object"
      ]
     },
     "execution_count": 24,
     "metadata": {},
     "output_type": "execute_result"
    }
   ],
   "source": [
    "df.dtypes"
   ]
  },
  {
   "cell_type": "markdown",
   "metadata": {},
   "source": [
    "Filling missing dependent values."
   ]
  },
  {
   "cell_type": "code",
   "execution_count": 25,
   "metadata": {},
   "outputs": [
    {
     "data": {
      "text/plain": [
       "0.0     21435\n",
       "2.0      2150\n",
       "1.0      1395\n",
       "3.0       701\n",
       "4.0       179\n",
       "5.0        41\n",
       "6.0         8\n",
       "7.0         3\n",
       "36.0        1\n",
       "52.0        1\n",
       "25.0        1\n",
       "9.0         1\n",
       "50.0        1\n",
       "32.0        1\n",
       "8.0         1\n",
       "Name: dependents, dtype: int64"
      ]
     },
     "execution_count": 25,
     "metadata": {},
     "output_type": "execute_result"
    }
   ],
   "source": [
    "df['dependents'].value_counts()"
   ]
  },
  {
   "cell_type": "code",
   "execution_count": 26,
   "metadata": {},
   "outputs": [
    {
     "data": {
      "text/html": [
       "<div>\n",
       "<style scoped>\n",
       "    .dataframe tbody tr th:only-of-type {\n",
       "        vertical-align: middle;\n",
       "    }\n",
       "\n",
       "    .dataframe tbody tr th {\n",
       "        vertical-align: top;\n",
       "    }\n",
       "\n",
       "    .dataframe thead th {\n",
       "        text-align: right;\n",
       "    }\n",
       "</style>\n",
       "<table border=\"1\" class=\"dataframe\">\n",
       "  <thead>\n",
       "    <tr style=\"text-align: right;\">\n",
       "      <th></th>\n",
       "      <th>dependents</th>\n",
       "      <th>current_month_credit</th>\n",
       "    </tr>\n",
       "  </thead>\n",
       "  <tbody>\n",
       "    <tr>\n",
       "      <th>35</th>\n",
       "      <td>7.0</td>\n",
       "      <td>0.19</td>\n",
       "    </tr>\n",
       "    <tr>\n",
       "      <th>1326</th>\n",
       "      <td>9.0</td>\n",
       "      <td>1279.11</td>\n",
       "    </tr>\n",
       "    <tr>\n",
       "      <th>3741</th>\n",
       "      <td>52.0</td>\n",
       "      <td>286.36</td>\n",
       "    </tr>\n",
       "    <tr>\n",
       "      <th>7820</th>\n",
       "      <td>36.0</td>\n",
       "      <td>0.10</td>\n",
       "    </tr>\n",
       "    <tr>\n",
       "      <th>8078</th>\n",
       "      <td>7.0</td>\n",
       "      <td>1643.00</td>\n",
       "    </tr>\n",
       "    <tr>\n",
       "      <th>9082</th>\n",
       "      <td>50.0</td>\n",
       "      <td>13857.19</td>\n",
       "    </tr>\n",
       "    <tr>\n",
       "      <th>9472</th>\n",
       "      <td>8.0</td>\n",
       "      <td>0.17</td>\n",
       "    </tr>\n",
       "    <tr>\n",
       "      <th>14016</th>\n",
       "      <td>25.0</td>\n",
       "      <td>13100.21</td>\n",
       "    </tr>\n",
       "    <tr>\n",
       "      <th>18865</th>\n",
       "      <td>7.0</td>\n",
       "      <td>0.29</td>\n",
       "    </tr>\n",
       "    <tr>\n",
       "      <th>23681</th>\n",
       "      <td>32.0</td>\n",
       "      <td>0.46</td>\n",
       "    </tr>\n",
       "  </tbody>\n",
       "</table>\n",
       "</div>"
      ],
      "text/plain": [
       "       dependents  current_month_credit\n",
       "35            7.0                  0.19\n",
       "1326          9.0               1279.11\n",
       "3741         52.0                286.36\n",
       "7820         36.0                  0.10\n",
       "8078          7.0               1643.00\n",
       "9082         50.0              13857.19\n",
       "9472          8.0                  0.17\n",
       "14016        25.0              13100.21\n",
       "18865         7.0                  0.29\n",
       "23681        32.0                  0.46"
      ]
     },
     "execution_count": 26,
     "metadata": {},
     "output_type": "execute_result"
    }
   ],
   "source": [
    "df[['dependents', 'current_month_credit']].loc[df['dependents']>6]"
   ]
  },
  {
   "cell_type": "code",
   "execution_count": 27,
   "metadata": {},
   "outputs": [
    {
     "data": {
      "text/plain": [
       "0.34723561865812724"
      ]
     },
     "execution_count": 27,
     "metadata": {},
     "output_type": "execute_result"
    }
   ],
   "source": [
    "df['dependents'].mean()"
   ]
  },
  {
   "cell_type": "code",
   "execution_count": 28,
   "metadata": {},
   "outputs": [],
   "source": [
    "df['dependents'].fillna(value = 0, inplace = True)"
   ]
  },
  {
   "cell_type": "code",
   "execution_count": 29,
   "metadata": {},
   "outputs": [
    {
     "data": {
      "text/plain": [
       "0"
      ]
     },
     "execution_count": 29,
     "metadata": {},
     "output_type": "execute_result"
    }
   ],
   "source": [
    "df['dependents'].isnull().sum()"
   ]
  },
  {
   "cell_type": "markdown",
   "metadata": {},
   "source": [
    "Filling missing city values."
   ]
  },
  {
   "cell_type": "code",
   "execution_count": 30,
   "metadata": {},
   "outputs": [
    {
     "data": {
      "text/plain": [
       "796.1095761267632"
      ]
     },
     "execution_count": 30,
     "metadata": {},
     "output_type": "execute_result"
    }
   ],
   "source": [
    "df['city'].mean()"
   ]
  },
  {
   "cell_type": "code",
   "execution_count": 31,
   "metadata": {},
   "outputs": [
    {
     "name": "stdout",
     "output_type": "stream",
     "text": [
      "For customer_nw_category 1 and occupation: company\n",
      "318.0\n",
      "For customer_nw_category 1 and occupation: retired\n",
      "1020.0\n",
      "For customer_nw_category 1 and occupation: salaried\n",
      "1020.0\n",
      "For customer_nw_category 1 and occupation: self_employed\n",
      "1020.0\n",
      "For customer_nw_category 1 and occupation: student\n",
      "1020.0\n",
      "For customer_nw_category 2 and occupation: company\n",
      "146.0\n",
      "For customer_nw_category 2 and occupation: retired\n",
      "1020.0\n",
      "For customer_nw_category 2 and occupation: salaried\n",
      "1020.0\n",
      "For customer_nw_category 2 and occupation: self_employed\n",
      "1020.0\n",
      "For customer_nw_category 2 and occupation: student\n",
      "1020.0\n",
      "For customer_nw_category 3 and occupation: company\n",
      "409.0\n",
      "For customer_nw_category 3 and occupation: retired\n",
      "1020.0\n",
      "For customer_nw_category 3 and occupation: salaried\n",
      "1020.0\n",
      "For customer_nw_category 3 and occupation: self_employed\n",
      "1020.0\n",
      "For customer_nw_category 3 and occupation: student\n",
      "1020.0\n"
     ]
    }
   ],
   "source": [
    "for i in l1:\n",
    "    for j in l2:\n",
    "        print('For customer_nw_category', i, 'and occupation:', j)\n",
    "        print(df['city'][df['occupation']==j][df['customer_nw_category']==i].mode()[0])"
   ]
  },
  {
   "cell_type": "code",
   "execution_count": 32,
   "metadata": {},
   "outputs": [
    {
     "name": "stderr",
     "output_type": "stream",
     "text": [
      "C:\\ProgramData\\Anaconda3\\lib\\site-packages\\ipykernel_launcher.py:12: SettingWithCopyWarning: \n",
      "A value is trying to be set on a copy of a slice from a DataFrame\n",
      "\n",
      "See the caveats in the documentation: https://pandas.pydata.org/pandas-docs/stable/user_guide/indexing.html#returning-a-view-versus-a-copy\n",
      "  if sys.path[0] == '':\n",
      "C:\\ProgramData\\Anaconda3\\lib\\site-packages\\ipykernel_launcher.py:17: SettingWithCopyWarning: \n",
      "A value is trying to be set on a copy of a slice from a DataFrame\n",
      "\n",
      "See the caveats in the documentation: https://pandas.pydata.org/pandas-docs/stable/user_guide/indexing.html#returning-a-view-versus-a-copy\n",
      "C:\\ProgramData\\Anaconda3\\lib\\site-packages\\ipykernel_launcher.py:7: SettingWithCopyWarning: \n",
      "A value is trying to be set on a copy of a slice from a DataFrame\n",
      "\n",
      "See the caveats in the documentation: https://pandas.pydata.org/pandas-docs/stable/user_guide/indexing.html#returning-a-view-versus-a-copy\n",
      "  import sys\n",
      "C:\\ProgramData\\Anaconda3\\lib\\site-packages\\ipykernel_launcher.py:10: SettingWithCopyWarning: \n",
      "A value is trying to be set on a copy of a slice from a DataFrame\n",
      "\n",
      "See the caveats in the documentation: https://pandas.pydata.org/pandas-docs/stable/user_guide/indexing.html#returning-a-view-versus-a-copy\n",
      "  # Remove the CWD from sys.path while we load stuff.\n",
      "C:\\ProgramData\\Anaconda3\\lib\\site-packages\\ipykernel_launcher.py:15: SettingWithCopyWarning: \n",
      "A value is trying to be set on a copy of a slice from a DataFrame\n",
      "\n",
      "See the caveats in the documentation: https://pandas.pydata.org/pandas-docs/stable/user_guide/indexing.html#returning-a-view-versus-a-copy\n",
      "  from ipykernel import kernelapp as app\n"
     ]
    }
   ],
   "source": [
    "for i in range(0, len(df)):\n",
    "    if pd.isnull(df['city'][i])==True:\n",
    "        if df['customer_nw_category'][i]==1:\n",
    "            if df['occupation'][i]=='company':\n",
    "                df['city'][i] = 318.0\n",
    "            else:\n",
    "                df['city'][i] = 1020.0\n",
    "        elif df['customer_nw_category'][i]==2:\n",
    "            if df['occupation'][i]=='company':\n",
    "                df['city'][i] = 146.0\n",
    "            else:\n",
    "                df['city'][i] = 1020.0\n",
    "        elif df['customer_nw_category'][i]==3:\n",
    "            if df['occupation'][i]=='company':\n",
    "                df['city'][i] = 409.0\n",
    "            else:\n",
    "                df['city'][i] = 1020.0"
   ]
  },
  {
   "cell_type": "code",
   "execution_count": 33,
   "metadata": {},
   "outputs": [
    {
     "data": {
      "text/plain": [
       "customer_id                          0\n",
       "vintage                              0\n",
       "age                                  0\n",
       "gender                               0\n",
       "dependents                           0\n",
       "occupation                           0\n",
       "city                                 0\n",
       "customer_nw_category                 0\n",
       "branch_code                          0\n",
       "days_since_last_transaction       3223\n",
       "current_balance                      0\n",
       "previous_month_end_balance           0\n",
       "average_monthly_balance_prevQ        0\n",
       "average_monthly_balance_prevQ2       0\n",
       "current_month_credit                 0\n",
       "previous_month_credit                0\n",
       "current_month_debit                  0\n",
       "previous_month_debit                 0\n",
       "current_month_balance                0\n",
       "previous_month_balance               0\n",
       "churn                                0\n",
       "dtype: int64"
      ]
     },
     "execution_count": 33,
     "metadata": {},
     "output_type": "execute_result"
    }
   ],
   "source": [
    "df.isnull().sum()"
   ]
  },
  {
   "cell_type": "code",
   "execution_count": 34,
   "metadata": {
    "scrolled": true
   },
   "outputs": [
    {
     "data": {
      "text/html": [
       "<div>\n",
       "<style scoped>\n",
       "    .dataframe tbody tr th:only-of-type {\n",
       "        vertical-align: middle;\n",
       "    }\n",
       "\n",
       "    .dataframe tbody tr th {\n",
       "        vertical-align: top;\n",
       "    }\n",
       "\n",
       "    .dataframe thead th {\n",
       "        text-align: right;\n",
       "    }\n",
       "</style>\n",
       "<table border=\"1\" class=\"dataframe\">\n",
       "  <thead>\n",
       "    <tr style=\"text-align: right;\">\n",
       "      <th></th>\n",
       "      <th>customer_id</th>\n",
       "      <th>vintage</th>\n",
       "      <th>dependents</th>\n",
       "      <th>city</th>\n",
       "      <th>customer_nw_category</th>\n",
       "      <th>branch_code</th>\n",
       "      <th>days_since_last_transaction</th>\n",
       "      <th>current_balance</th>\n",
       "      <th>previous_month_end_balance</th>\n",
       "      <th>average_monthly_balance_prevQ</th>\n",
       "      <th>average_monthly_balance_prevQ2</th>\n",
       "      <th>current_month_credit</th>\n",
       "      <th>previous_month_credit</th>\n",
       "      <th>current_month_debit</th>\n",
       "      <th>previous_month_debit</th>\n",
       "      <th>current_month_balance</th>\n",
       "      <th>previous_month_balance</th>\n",
       "      <th>churn</th>\n",
       "    </tr>\n",
       "  </thead>\n",
       "  <tbody>\n",
       "    <tr>\n",
       "      <th>customer_id</th>\n",
       "      <td>1.000000</td>\n",
       "      <td>-0.006093</td>\n",
       "      <td>-0.009110</td>\n",
       "      <td>0.000777</td>\n",
       "      <td>0.009618</td>\n",
       "      <td>-0.000286</td>\n",
       "      <td>0.010267</td>\n",
       "      <td>0.006589</td>\n",
       "      <td>0.005819</td>\n",
       "      <td>0.004485</td>\n",
       "      <td>-0.002532</td>\n",
       "      <td>0.002494</td>\n",
       "      <td>-0.006414</td>\n",
       "      <td>0.002603</td>\n",
       "      <td>-0.008760</td>\n",
       "      <td>0.005140</td>\n",
       "      <td>0.004553</td>\n",
       "      <td>-0.002723</td>\n",
       "    </tr>\n",
       "    <tr>\n",
       "      <th>vintage</th>\n",
       "      <td>-0.006093</td>\n",
       "      <td>1.000000</td>\n",
       "      <td>0.068588</td>\n",
       "      <td>0.041556</td>\n",
       "      <td>-0.167366</td>\n",
       "      <td>-0.380714</td>\n",
       "      <td>-0.088744</td>\n",
       "      <td>0.002986</td>\n",
       "      <td>0.004518</td>\n",
       "      <td>0.003433</td>\n",
       "      <td>0.002244</td>\n",
       "      <td>0.002848</td>\n",
       "      <td>0.028034</td>\n",
       "      <td>0.005406</td>\n",
       "      <td>0.023949</td>\n",
       "      <td>0.001638</td>\n",
       "      <td>0.003448</td>\n",
       "      <td>-0.064637</td>\n",
       "    </tr>\n",
       "    <tr>\n",
       "      <th>dependents</th>\n",
       "      <td>-0.009110</td>\n",
       "      <td>0.068588</td>\n",
       "      <td>1.000000</td>\n",
       "      <td>0.003351</td>\n",
       "      <td>0.007917</td>\n",
       "      <td>-0.001704</td>\n",
       "      <td>-0.084620</td>\n",
       "      <td>-0.003838</td>\n",
       "      <td>-0.002181</td>\n",
       "      <td>-0.001786</td>\n",
       "      <td>-0.001967</td>\n",
       "      <td>0.003542</td>\n",
       "      <td>0.025848</td>\n",
       "      <td>0.008225</td>\n",
       "      <td>0.030746</td>\n",
       "      <td>-0.002769</td>\n",
       "      <td>-0.001672</td>\n",
       "      <td>0.029335</td>\n",
       "    </tr>\n",
       "    <tr>\n",
       "      <th>city</th>\n",
       "      <td>0.000777</td>\n",
       "      <td>0.041556</td>\n",
       "      <td>0.003351</td>\n",
       "      <td>1.000000</td>\n",
       "      <td>0.009313</td>\n",
       "      <td>-0.055965</td>\n",
       "      <td>-0.003181</td>\n",
       "      <td>-0.006207</td>\n",
       "      <td>-0.004630</td>\n",
       "      <td>-0.006790</td>\n",
       "      <td>-0.008203</td>\n",
       "      <td>0.003810</td>\n",
       "      <td>0.007338</td>\n",
       "      <td>0.001237</td>\n",
       "      <td>0.005475</td>\n",
       "      <td>-0.006345</td>\n",
       "      <td>-0.006314</td>\n",
       "      <td>-0.000790</td>\n",
       "    </tr>\n",
       "    <tr>\n",
       "      <th>customer_nw_category</th>\n",
       "      <td>0.009618</td>\n",
       "      <td>-0.167366</td>\n",
       "      <td>0.007917</td>\n",
       "      <td>0.009313</td>\n",
       "      <td>1.000000</td>\n",
       "      <td>0.235059</td>\n",
       "      <td>0.049531</td>\n",
       "      <td>-0.058314</td>\n",
       "      <td>-0.059854</td>\n",
       "      <td>-0.059535</td>\n",
       "      <td>-0.047010</td>\n",
       "      <td>-0.025254</td>\n",
       "      <td>-0.072374</td>\n",
       "      <td>-0.035917</td>\n",
       "      <td>-0.071721</td>\n",
       "      <td>-0.058648</td>\n",
       "      <td>-0.059113</td>\n",
       "      <td>0.006551</td>\n",
       "    </tr>\n",
       "    <tr>\n",
       "      <th>branch_code</th>\n",
       "      <td>-0.000286</td>\n",
       "      <td>-0.380714</td>\n",
       "      <td>-0.001704</td>\n",
       "      <td>-0.055965</td>\n",
       "      <td>0.235059</td>\n",
       "      <td>1.000000</td>\n",
       "      <td>0.038708</td>\n",
       "      <td>0.000181</td>\n",
       "      <td>0.000214</td>\n",
       "      <td>0.001955</td>\n",
       "      <td>0.001310</td>\n",
       "      <td>-0.013988</td>\n",
       "      <td>-0.023849</td>\n",
       "      <td>-0.016944</td>\n",
       "      <td>-0.017584</td>\n",
       "      <td>0.001031</td>\n",
       "      <td>0.002080</td>\n",
       "      <td>0.035469</td>\n",
       "    </tr>\n",
       "    <tr>\n",
       "      <th>days_since_last_transaction</th>\n",
       "      <td>0.010267</td>\n",
       "      <td>-0.088744</td>\n",
       "      <td>-0.084620</td>\n",
       "      <td>-0.003181</td>\n",
       "      <td>0.049531</td>\n",
       "      <td>0.038708</td>\n",
       "      <td>1.000000</td>\n",
       "      <td>-0.019990</td>\n",
       "      <td>-0.014400</td>\n",
       "      <td>-0.012709</td>\n",
       "      <td>-0.006384</td>\n",
       "      <td>-0.033131</td>\n",
       "      <td>-0.071657</td>\n",
       "      <td>-0.039165</td>\n",
       "      <td>-0.070192</td>\n",
       "      <td>-0.017837</td>\n",
       "      <td>-0.011738</td>\n",
       "      <td>-0.055830</td>\n",
       "    </tr>\n",
       "    <tr>\n",
       "      <th>current_balance</th>\n",
       "      <td>0.006589</td>\n",
       "      <td>0.002986</td>\n",
       "      <td>-0.003838</td>\n",
       "      <td>-0.006207</td>\n",
       "      <td>-0.058314</td>\n",
       "      <td>0.000181</td>\n",
       "      <td>-0.019990</td>\n",
       "      <td>1.000000</td>\n",
       "      <td>0.947276</td>\n",
       "      <td>0.958307</td>\n",
       "      <td>0.714600</td>\n",
       "      <td>0.030371</td>\n",
       "      <td>0.061754</td>\n",
       "      <td>0.044412</td>\n",
       "      <td>0.081247</td>\n",
       "      <td>0.983412</td>\n",
       "      <td>0.942207</td>\n",
       "      <td>-0.024181</td>\n",
       "    </tr>\n",
       "    <tr>\n",
       "      <th>previous_month_end_balance</th>\n",
       "      <td>0.005819</td>\n",
       "      <td>0.004518</td>\n",
       "      <td>-0.002181</td>\n",
       "      <td>-0.004630</td>\n",
       "      <td>-0.059854</td>\n",
       "      <td>0.000214</td>\n",
       "      <td>-0.014400</td>\n",
       "      <td>0.947276</td>\n",
       "      <td>1.000000</td>\n",
       "      <td>0.970530</td>\n",
       "      <td>0.722998</td>\n",
       "      <td>0.032493</td>\n",
       "      <td>0.114222</td>\n",
       "      <td>0.066329</td>\n",
       "      <td>0.109606</td>\n",
       "      <td>0.974714</td>\n",
       "      <td>0.969605</td>\n",
       "      <td>0.006886</td>\n",
       "    </tr>\n",
       "    <tr>\n",
       "      <th>average_monthly_balance_prevQ</th>\n",
       "      <td>0.004485</td>\n",
       "      <td>0.003433</td>\n",
       "      <td>-0.001786</td>\n",
       "      <td>-0.006790</td>\n",
       "      <td>-0.059535</td>\n",
       "      <td>0.001955</td>\n",
       "      <td>-0.012709</td>\n",
       "      <td>0.958307</td>\n",
       "      <td>0.970530</td>\n",
       "      <td>1.000000</td>\n",
       "      <td>0.763495</td>\n",
       "      <td>0.033639</td>\n",
       "      <td>0.085699</td>\n",
       "      <td>0.060579</td>\n",
       "      <td>0.121272</td>\n",
       "      <td>0.976290</td>\n",
       "      <td>0.994038</td>\n",
       "      <td>0.011960</td>\n",
       "    </tr>\n",
       "    <tr>\n",
       "      <th>average_monthly_balance_prevQ2</th>\n",
       "      <td>-0.002532</td>\n",
       "      <td>0.002244</td>\n",
       "      <td>-0.001967</td>\n",
       "      <td>-0.008203</td>\n",
       "      <td>-0.047010</td>\n",
       "      <td>0.001310</td>\n",
       "      <td>-0.006384</td>\n",
       "      <td>0.714600</td>\n",
       "      <td>0.722998</td>\n",
       "      <td>0.763495</td>\n",
       "      <td>1.000000</td>\n",
       "      <td>0.036271</td>\n",
       "      <td>0.062264</td>\n",
       "      <td>0.045239</td>\n",
       "      <td>0.102519</td>\n",
       "      <td>0.725826</td>\n",
       "      <td>0.736635</td>\n",
       "      <td>0.018376</td>\n",
       "    </tr>\n",
       "    <tr>\n",
       "      <th>current_month_credit</th>\n",
       "      <td>0.002494</td>\n",
       "      <td>0.002848</td>\n",
       "      <td>0.003542</td>\n",
       "      <td>0.003810</td>\n",
       "      <td>-0.025254</td>\n",
       "      <td>-0.013988</td>\n",
       "      <td>-0.033131</td>\n",
       "      <td>0.030371</td>\n",
       "      <td>0.032493</td>\n",
       "      <td>0.033639</td>\n",
       "      <td>0.036271</td>\n",
       "      <td>1.000000</td>\n",
       "      <td>0.168561</td>\n",
       "      <td>0.937021</td>\n",
       "      <td>0.135729</td>\n",
       "      <td>0.034182</td>\n",
       "      <td>0.038254</td>\n",
       "      <td>0.020755</td>\n",
       "    </tr>\n",
       "    <tr>\n",
       "      <th>previous_month_credit</th>\n",
       "      <td>-0.006414</td>\n",
       "      <td>0.028034</td>\n",
       "      <td>0.025848</td>\n",
       "      <td>0.007338</td>\n",
       "      <td>-0.072374</td>\n",
       "      <td>-0.023849</td>\n",
       "      <td>-0.071657</td>\n",
       "      <td>0.061754</td>\n",
       "      <td>0.114222</td>\n",
       "      <td>0.085699</td>\n",
       "      <td>0.062264</td>\n",
       "      <td>0.168561</td>\n",
       "      <td>1.000000</td>\n",
       "      <td>0.165092</td>\n",
       "      <td>0.733953</td>\n",
       "      <td>0.085320</td>\n",
       "      <td>0.108496</td>\n",
       "      <td>0.042179</td>\n",
       "    </tr>\n",
       "    <tr>\n",
       "      <th>current_month_debit</th>\n",
       "      <td>0.002603</td>\n",
       "      <td>0.005406</td>\n",
       "      <td>0.008225</td>\n",
       "      <td>0.001237</td>\n",
       "      <td>-0.035917</td>\n",
       "      <td>-0.016944</td>\n",
       "      <td>-0.039165</td>\n",
       "      <td>0.044412</td>\n",
       "      <td>0.066329</td>\n",
       "      <td>0.060579</td>\n",
       "      <td>0.045239</td>\n",
       "      <td>0.937021</td>\n",
       "      <td>0.165092</td>\n",
       "      <td>1.000000</td>\n",
       "      <td>0.191755</td>\n",
       "      <td>0.069720</td>\n",
       "      <td>0.063375</td>\n",
       "      <td>0.048041</td>\n",
       "    </tr>\n",
       "    <tr>\n",
       "      <th>previous_month_debit</th>\n",
       "      <td>-0.008760</td>\n",
       "      <td>0.023949</td>\n",
       "      <td>0.030746</td>\n",
       "      <td>0.005475</td>\n",
       "      <td>-0.071721</td>\n",
       "      <td>-0.017584</td>\n",
       "      <td>-0.070192</td>\n",
       "      <td>0.081247</td>\n",
       "      <td>0.109606</td>\n",
       "      <td>0.121272</td>\n",
       "      <td>0.102519</td>\n",
       "      <td>0.135729</td>\n",
       "      <td>0.733953</td>\n",
       "      <td>0.191755</td>\n",
       "      <td>1.000000</td>\n",
       "      <td>0.102010</td>\n",
       "      <td>0.139723</td>\n",
       "      <td>0.073058</td>\n",
       "    </tr>\n",
       "    <tr>\n",
       "      <th>current_month_balance</th>\n",
       "      <td>0.005140</td>\n",
       "      <td>0.001638</td>\n",
       "      <td>-0.002769</td>\n",
       "      <td>-0.006345</td>\n",
       "      <td>-0.058648</td>\n",
       "      <td>0.001031</td>\n",
       "      <td>-0.017837</td>\n",
       "      <td>0.983412</td>\n",
       "      <td>0.974714</td>\n",
       "      <td>0.976290</td>\n",
       "      <td>0.725826</td>\n",
       "      <td>0.034182</td>\n",
       "      <td>0.085320</td>\n",
       "      <td>0.069720</td>\n",
       "      <td>0.102010</td>\n",
       "      <td>1.000000</td>\n",
       "      <td>0.963276</td>\n",
       "      <td>-0.006391</td>\n",
       "    </tr>\n",
       "    <tr>\n",
       "      <th>previous_month_balance</th>\n",
       "      <td>0.004553</td>\n",
       "      <td>0.003448</td>\n",
       "      <td>-0.001672</td>\n",
       "      <td>-0.006314</td>\n",
       "      <td>-0.059113</td>\n",
       "      <td>0.002080</td>\n",
       "      <td>-0.011738</td>\n",
       "      <td>0.942207</td>\n",
       "      <td>0.969605</td>\n",
       "      <td>0.994038</td>\n",
       "      <td>0.736635</td>\n",
       "      <td>0.038254</td>\n",
       "      <td>0.108496</td>\n",
       "      <td>0.063375</td>\n",
       "      <td>0.139723</td>\n",
       "      <td>0.963276</td>\n",
       "      <td>1.000000</td>\n",
       "      <td>0.014593</td>\n",
       "    </tr>\n",
       "    <tr>\n",
       "      <th>churn</th>\n",
       "      <td>-0.002723</td>\n",
       "      <td>-0.064637</td>\n",
       "      <td>0.029335</td>\n",
       "      <td>-0.000790</td>\n",
       "      <td>0.006551</td>\n",
       "      <td>0.035469</td>\n",
       "      <td>-0.055830</td>\n",
       "      <td>-0.024181</td>\n",
       "      <td>0.006886</td>\n",
       "      <td>0.011960</td>\n",
       "      <td>0.018376</td>\n",
       "      <td>0.020755</td>\n",
       "      <td>0.042179</td>\n",
       "      <td>0.048041</td>\n",
       "      <td>0.073058</td>\n",
       "      <td>-0.006391</td>\n",
       "      <td>0.014593</td>\n",
       "      <td>1.000000</td>\n",
       "    </tr>\n",
       "  </tbody>\n",
       "</table>\n",
       "</div>"
      ],
      "text/plain": [
       "                                customer_id   vintage  dependents      city  \\\n",
       "customer_id                        1.000000 -0.006093   -0.009110  0.000777   \n",
       "vintage                           -0.006093  1.000000    0.068588  0.041556   \n",
       "dependents                        -0.009110  0.068588    1.000000  0.003351   \n",
       "city                               0.000777  0.041556    0.003351  1.000000   \n",
       "customer_nw_category               0.009618 -0.167366    0.007917  0.009313   \n",
       "branch_code                       -0.000286 -0.380714   -0.001704 -0.055965   \n",
       "days_since_last_transaction        0.010267 -0.088744   -0.084620 -0.003181   \n",
       "current_balance                    0.006589  0.002986   -0.003838 -0.006207   \n",
       "previous_month_end_balance         0.005819  0.004518   -0.002181 -0.004630   \n",
       "average_monthly_balance_prevQ      0.004485  0.003433   -0.001786 -0.006790   \n",
       "average_monthly_balance_prevQ2    -0.002532  0.002244   -0.001967 -0.008203   \n",
       "current_month_credit               0.002494  0.002848    0.003542  0.003810   \n",
       "previous_month_credit             -0.006414  0.028034    0.025848  0.007338   \n",
       "current_month_debit                0.002603  0.005406    0.008225  0.001237   \n",
       "previous_month_debit              -0.008760  0.023949    0.030746  0.005475   \n",
       "current_month_balance              0.005140  0.001638   -0.002769 -0.006345   \n",
       "previous_month_balance             0.004553  0.003448   -0.001672 -0.006314   \n",
       "churn                             -0.002723 -0.064637    0.029335 -0.000790   \n",
       "\n",
       "                                customer_nw_category  branch_code  \\\n",
       "customer_id                                 0.009618    -0.000286   \n",
       "vintage                                    -0.167366    -0.380714   \n",
       "dependents                                  0.007917    -0.001704   \n",
       "city                                        0.009313    -0.055965   \n",
       "customer_nw_category                        1.000000     0.235059   \n",
       "branch_code                                 0.235059     1.000000   \n",
       "days_since_last_transaction                 0.049531     0.038708   \n",
       "current_balance                            -0.058314     0.000181   \n",
       "previous_month_end_balance                 -0.059854     0.000214   \n",
       "average_monthly_balance_prevQ              -0.059535     0.001955   \n",
       "average_monthly_balance_prevQ2             -0.047010     0.001310   \n",
       "current_month_credit                       -0.025254    -0.013988   \n",
       "previous_month_credit                      -0.072374    -0.023849   \n",
       "current_month_debit                        -0.035917    -0.016944   \n",
       "previous_month_debit                       -0.071721    -0.017584   \n",
       "current_month_balance                      -0.058648     0.001031   \n",
       "previous_month_balance                     -0.059113     0.002080   \n",
       "churn                                       0.006551     0.035469   \n",
       "\n",
       "                                days_since_last_transaction  current_balance  \\\n",
       "customer_id                                        0.010267         0.006589   \n",
       "vintage                                           -0.088744         0.002986   \n",
       "dependents                                        -0.084620        -0.003838   \n",
       "city                                              -0.003181        -0.006207   \n",
       "customer_nw_category                               0.049531        -0.058314   \n",
       "branch_code                                        0.038708         0.000181   \n",
       "days_since_last_transaction                        1.000000        -0.019990   \n",
       "current_balance                                   -0.019990         1.000000   \n",
       "previous_month_end_balance                        -0.014400         0.947276   \n",
       "average_monthly_balance_prevQ                     -0.012709         0.958307   \n",
       "average_monthly_balance_prevQ2                    -0.006384         0.714600   \n",
       "current_month_credit                              -0.033131         0.030371   \n",
       "previous_month_credit                             -0.071657         0.061754   \n",
       "current_month_debit                               -0.039165         0.044412   \n",
       "previous_month_debit                              -0.070192         0.081247   \n",
       "current_month_balance                             -0.017837         0.983412   \n",
       "previous_month_balance                            -0.011738         0.942207   \n",
       "churn                                             -0.055830        -0.024181   \n",
       "\n",
       "                                previous_month_end_balance  \\\n",
       "customer_id                                       0.005819   \n",
       "vintage                                           0.004518   \n",
       "dependents                                       -0.002181   \n",
       "city                                             -0.004630   \n",
       "customer_nw_category                             -0.059854   \n",
       "branch_code                                       0.000214   \n",
       "days_since_last_transaction                      -0.014400   \n",
       "current_balance                                   0.947276   \n",
       "previous_month_end_balance                        1.000000   \n",
       "average_monthly_balance_prevQ                     0.970530   \n",
       "average_monthly_balance_prevQ2                    0.722998   \n",
       "current_month_credit                              0.032493   \n",
       "previous_month_credit                             0.114222   \n",
       "current_month_debit                               0.066329   \n",
       "previous_month_debit                              0.109606   \n",
       "current_month_balance                             0.974714   \n",
       "previous_month_balance                            0.969605   \n",
       "churn                                             0.006886   \n",
       "\n",
       "                                average_monthly_balance_prevQ  \\\n",
       "customer_id                                          0.004485   \n",
       "vintage                                              0.003433   \n",
       "dependents                                          -0.001786   \n",
       "city                                                -0.006790   \n",
       "customer_nw_category                                -0.059535   \n",
       "branch_code                                          0.001955   \n",
       "days_since_last_transaction                         -0.012709   \n",
       "current_balance                                      0.958307   \n",
       "previous_month_end_balance                           0.970530   \n",
       "average_monthly_balance_prevQ                        1.000000   \n",
       "average_monthly_balance_prevQ2                       0.763495   \n",
       "current_month_credit                                 0.033639   \n",
       "previous_month_credit                                0.085699   \n",
       "current_month_debit                                  0.060579   \n",
       "previous_month_debit                                 0.121272   \n",
       "current_month_balance                                0.976290   \n",
       "previous_month_balance                               0.994038   \n",
       "churn                                                0.011960   \n",
       "\n",
       "                                average_monthly_balance_prevQ2  \\\n",
       "customer_id                                          -0.002532   \n",
       "vintage                                               0.002244   \n",
       "dependents                                           -0.001967   \n",
       "city                                                 -0.008203   \n",
       "customer_nw_category                                 -0.047010   \n",
       "branch_code                                           0.001310   \n",
       "days_since_last_transaction                          -0.006384   \n",
       "current_balance                                       0.714600   \n",
       "previous_month_end_balance                            0.722998   \n",
       "average_monthly_balance_prevQ                         0.763495   \n",
       "average_monthly_balance_prevQ2                        1.000000   \n",
       "current_month_credit                                  0.036271   \n",
       "previous_month_credit                                 0.062264   \n",
       "current_month_debit                                   0.045239   \n",
       "previous_month_debit                                  0.102519   \n",
       "current_month_balance                                 0.725826   \n",
       "previous_month_balance                                0.736635   \n",
       "churn                                                 0.018376   \n",
       "\n",
       "                                current_month_credit  previous_month_credit  \\\n",
       "customer_id                                 0.002494              -0.006414   \n",
       "vintage                                     0.002848               0.028034   \n",
       "dependents                                  0.003542               0.025848   \n",
       "city                                        0.003810               0.007338   \n",
       "customer_nw_category                       -0.025254              -0.072374   \n",
       "branch_code                                -0.013988              -0.023849   \n",
       "days_since_last_transaction                -0.033131              -0.071657   \n",
       "current_balance                             0.030371               0.061754   \n",
       "previous_month_end_balance                  0.032493               0.114222   \n",
       "average_monthly_balance_prevQ               0.033639               0.085699   \n",
       "average_monthly_balance_prevQ2              0.036271               0.062264   \n",
       "current_month_credit                        1.000000               0.168561   \n",
       "previous_month_credit                       0.168561               1.000000   \n",
       "current_month_debit                         0.937021               0.165092   \n",
       "previous_month_debit                        0.135729               0.733953   \n",
       "current_month_balance                       0.034182               0.085320   \n",
       "previous_month_balance                      0.038254               0.108496   \n",
       "churn                                       0.020755               0.042179   \n",
       "\n",
       "                                current_month_debit  previous_month_debit  \\\n",
       "customer_id                                0.002603             -0.008760   \n",
       "vintage                                    0.005406              0.023949   \n",
       "dependents                                 0.008225              0.030746   \n",
       "city                                       0.001237              0.005475   \n",
       "customer_nw_category                      -0.035917             -0.071721   \n",
       "branch_code                               -0.016944             -0.017584   \n",
       "days_since_last_transaction               -0.039165             -0.070192   \n",
       "current_balance                            0.044412              0.081247   \n",
       "previous_month_end_balance                 0.066329              0.109606   \n",
       "average_monthly_balance_prevQ              0.060579              0.121272   \n",
       "average_monthly_balance_prevQ2             0.045239              0.102519   \n",
       "current_month_credit                       0.937021              0.135729   \n",
       "previous_month_credit                      0.165092              0.733953   \n",
       "current_month_debit                        1.000000              0.191755   \n",
       "previous_month_debit                       0.191755              1.000000   \n",
       "current_month_balance                      0.069720              0.102010   \n",
       "previous_month_balance                     0.063375              0.139723   \n",
       "churn                                      0.048041              0.073058   \n",
       "\n",
       "                                current_month_balance  previous_month_balance  \\\n",
       "customer_id                                  0.005140                0.004553   \n",
       "vintage                                      0.001638                0.003448   \n",
       "dependents                                  -0.002769               -0.001672   \n",
       "city                                        -0.006345               -0.006314   \n",
       "customer_nw_category                        -0.058648               -0.059113   \n",
       "branch_code                                  0.001031                0.002080   \n",
       "days_since_last_transaction                 -0.017837               -0.011738   \n",
       "current_balance                              0.983412                0.942207   \n",
       "previous_month_end_balance                   0.974714                0.969605   \n",
       "average_monthly_balance_prevQ                0.976290                0.994038   \n",
       "average_monthly_balance_prevQ2               0.725826                0.736635   \n",
       "current_month_credit                         0.034182                0.038254   \n",
       "previous_month_credit                        0.085320                0.108496   \n",
       "current_month_debit                          0.069720                0.063375   \n",
       "previous_month_debit                         0.102010                0.139723   \n",
       "current_month_balance                        1.000000                0.963276   \n",
       "previous_month_balance                       0.963276                1.000000   \n",
       "churn                                       -0.006391                0.014593   \n",
       "\n",
       "                                   churn  \n",
       "customer_id                    -0.002723  \n",
       "vintage                        -0.064637  \n",
       "dependents                      0.029335  \n",
       "city                           -0.000790  \n",
       "customer_nw_category            0.006551  \n",
       "branch_code                     0.035469  \n",
       "days_since_last_transaction    -0.055830  \n",
       "current_balance                -0.024181  \n",
       "previous_month_end_balance      0.006886  \n",
       "average_monthly_balance_prevQ   0.011960  \n",
       "average_monthly_balance_prevQ2  0.018376  \n",
       "current_month_credit            0.020755  \n",
       "previous_month_credit           0.042179  \n",
       "current_month_debit             0.048041  \n",
       "previous_month_debit            0.073058  \n",
       "current_month_balance          -0.006391  \n",
       "previous_month_balance          0.014593  \n",
       "churn                           1.000000  "
      ]
     },
     "execution_count": 34,
     "metadata": {},
     "output_type": "execute_result"
    }
   ],
   "source": [
    "df.corr()"
   ]
  },
  {
   "cell_type": "markdown",
   "metadata": {},
   "source": [
    "Filling missing days_since_last_transaction values."
   ]
  },
  {
   "cell_type": "code",
   "execution_count": 35,
   "metadata": {},
   "outputs": [
    {
     "data": {
      "text/html": [
       "<div>\n",
       "<style scoped>\n",
       "    .dataframe tbody tr th:only-of-type {\n",
       "        vertical-align: middle;\n",
       "    }\n",
       "\n",
       "    .dataframe tbody tr th {\n",
       "        vertical-align: top;\n",
       "    }\n",
       "\n",
       "    .dataframe thead th {\n",
       "        text-align: right;\n",
       "    }\n",
       "</style>\n",
       "<table border=\"1\" class=\"dataframe\">\n",
       "  <thead>\n",
       "    <tr style=\"text-align: right;\">\n",
       "      <th>age</th>\n",
       "      <th>Young</th>\n",
       "      <th>MiddleAged</th>\n",
       "      <th>Old</th>\n",
       "    </tr>\n",
       "    <tr>\n",
       "      <th>gender</th>\n",
       "      <th></th>\n",
       "      <th></th>\n",
       "      <th></th>\n",
       "    </tr>\n",
       "  </thead>\n",
       "  <tbody>\n",
       "    <tr>\n",
       "      <th>Female</th>\n",
       "      <td>90</td>\n",
       "      <td>1135</td>\n",
       "      <td>576</td>\n",
       "    </tr>\n",
       "    <tr>\n",
       "      <th>Male</th>\n",
       "      <td>99</td>\n",
       "      <td>1193</td>\n",
       "      <td>618</td>\n",
       "    </tr>\n",
       "  </tbody>\n",
       "</table>\n",
       "</div>"
      ],
      "text/plain": [
       "age     Young  MiddleAged  Old\n",
       "gender                        \n",
       "Female     90        1135  576\n",
       "Male       99        1193  618"
      ]
     },
     "execution_count": 35,
     "metadata": {},
     "output_type": "execute_result"
    }
   ],
   "source": [
    "tab2 = pd.crosstab(df['gender'], df['age'][df['customer_nw_category']==1])\n",
    "tab2"
   ]
  },
  {
   "cell_type": "code",
   "execution_count": 36,
   "metadata": {},
   "outputs": [
    {
     "data": {
      "text/html": [
       "<div>\n",
       "<style scoped>\n",
       "    .dataframe tbody tr th:only-of-type {\n",
       "        vertical-align: middle;\n",
       "    }\n",
       "\n",
       "    .dataframe tbody tr th {\n",
       "        vertical-align: top;\n",
       "    }\n",
       "\n",
       "    .dataframe thead th {\n",
       "        text-align: right;\n",
       "    }\n",
       "</style>\n",
       "<table border=\"1\" class=\"dataframe\">\n",
       "  <thead>\n",
       "    <tr style=\"text-align: right;\">\n",
       "      <th>age</th>\n",
       "      <th>Young</th>\n",
       "      <th>MiddleAged</th>\n",
       "      <th>Old</th>\n",
       "    </tr>\n",
       "    <tr>\n",
       "      <th>gender</th>\n",
       "      <th></th>\n",
       "      <th></th>\n",
       "      <th></th>\n",
       "    </tr>\n",
       "  </thead>\n",
       "  <tbody>\n",
       "    <tr>\n",
       "      <th>Female</th>\n",
       "      <td>275</td>\n",
       "      <td>4251</td>\n",
       "      <td>1277</td>\n",
       "    </tr>\n",
       "    <tr>\n",
       "      <th>Male</th>\n",
       "      <td>287</td>\n",
       "      <td>6030</td>\n",
       "      <td>2439</td>\n",
       "    </tr>\n",
       "  </tbody>\n",
       "</table>\n",
       "</div>"
      ],
      "text/plain": [
       "age     Young  MiddleAged   Old\n",
       "gender                         \n",
       "Female    275        4251  1277\n",
       "Male      287        6030  2439"
      ]
     },
     "execution_count": 36,
     "metadata": {},
     "output_type": "execute_result"
    }
   ],
   "source": [
    "tab2 = pd.crosstab(df['gender'], df['age'][df['customer_nw_category']==2])\n",
    "tab2"
   ]
  },
  {
   "cell_type": "code",
   "execution_count": 37,
   "metadata": {},
   "outputs": [
    {
     "data": {
      "text/html": [
       "<div>\n",
       "<style scoped>\n",
       "    .dataframe tbody tr th:only-of-type {\n",
       "        vertical-align: middle;\n",
       "    }\n",
       "\n",
       "    .dataframe tbody tr th {\n",
       "        vertical-align: top;\n",
       "    }\n",
       "\n",
       "    .dataframe thead th {\n",
       "        text-align: right;\n",
       "    }\n",
       "</style>\n",
       "<table border=\"1\" class=\"dataframe\">\n",
       "  <thead>\n",
       "    <tr style=\"text-align: right;\">\n",
       "      <th>age</th>\n",
       "      <th>Young</th>\n",
       "      <th>MiddleAged</th>\n",
       "      <th>Old</th>\n",
       "    </tr>\n",
       "    <tr>\n",
       "      <th>gender</th>\n",
       "      <th></th>\n",
       "      <th></th>\n",
       "      <th></th>\n",
       "    </tr>\n",
       "  </thead>\n",
       "  <tbody>\n",
       "    <tr>\n",
       "      <th>Female</th>\n",
       "      <td>153</td>\n",
       "      <td>3000</td>\n",
       "      <td>679</td>\n",
       "    </tr>\n",
       "    <tr>\n",
       "      <th>Male</th>\n",
       "      <td>174</td>\n",
       "      <td>4643</td>\n",
       "      <td>1463</td>\n",
       "    </tr>\n",
       "  </tbody>\n",
       "</table>\n",
       "</div>"
      ],
      "text/plain": [
       "age     Young  MiddleAged   Old\n",
       "gender                         \n",
       "Female    153        3000   679\n",
       "Male      174        4643  1463"
      ]
     },
     "execution_count": 37,
     "metadata": {},
     "output_type": "execute_result"
    }
   ],
   "source": [
    "tab2 = pd.crosstab(df['gender'], df['age'][df['customer_nw_category']==3])\n",
    "tab2"
   ]
  },
  {
   "cell_type": "code",
   "execution_count": 38,
   "metadata": {},
   "outputs": [],
   "source": [
    "l4 = ['Male', 'Female']\n",
    "l5 = ['Young', 'MiddleAged', 'Old']\n",
    "l6 = [1, 2, 3]\n",
    "l7 = ['company', 'retired', 'salaried', 'self_employed', 'student']"
   ]
  },
  {
   "cell_type": "code",
   "execution_count": 39,
   "metadata": {},
   "outputs": [
    {
     "name": "stdout",
     "output_type": "stream",
     "text": [
      "Customer category: Young company Male\n",
      "nan\n",
      "Customer category: Young company Female\n",
      "nan\n",
      "Customer category: Young retired Male\n",
      "nan\n",
      "Customer category: Young retired Female\n",
      "nan\n",
      "Customer category: Young salaried Male\n",
      "54.2\n",
      "Customer category: Young salaried Female\n",
      "155.0\n",
      "Customer category: Young self_employed Male\n",
      "75.85714285714286\n",
      "Customer category: Young self_employed Female\n",
      "136.62857142857143\n",
      "Customer category: Young student Male\n",
      "111.65294117647059\n",
      "Customer category: Young student Female\n",
      "123.284375\n",
      "Customer category: MiddleAged company Male\n",
      "117.55555555555556\n",
      "Customer category: MiddleAged company Female\n",
      "70.2\n",
      "Customer category: MiddleAged retired Male\n",
      "67.9090909090909\n",
      "Customer category: MiddleAged retired Female\n",
      "84.0\n",
      "Customer category: MiddleAged salaried Male\n",
      "59.615561224489795\n",
      "Customer category: MiddleAged salaried Female\n",
      "69.99016393442623\n",
      "Customer category: MiddleAged self_employed Male\n",
      "60.9122779682144\n",
      "Customer category: MiddleAged self_employed Female\n",
      "79.11063191449466\n",
      "Customer category: MiddleAged student Male\n",
      "72.35378323108384\n",
      "Customer category: MiddleAged student Female\n",
      "78.72881355932203\n",
      "Customer category: Old company Male\n",
      "52.21052631578947\n",
      "Customer category: Old company Female\n",
      "48.0\n",
      "Customer category: Old retired Male\n",
      "67.20028715003589\n",
      "Customer category: Old retired Female\n",
      "70.95679012345678\n",
      "Customer category: Old salaried Male\n",
      "66.90748031496064\n",
      "Customer category: Old salaried Female\n",
      "56.198019801980195\n",
      "Customer category: Old self_employed Male\n",
      "72.37688932228181\n",
      "Customer category: Old self_employed Female\n",
      "76.92415730337079\n",
      "Customer category: Old student Male\n",
      "102.0\n",
      "Customer category: Old student Female\n",
      "33.0\n"
     ]
    }
   ],
   "source": [
    "for j in l5:\n",
    "    for h in l7:\n",
    "        for t in l4:\n",
    "            print('Customer category:', j, h, t)\n",
    "            print(df['days_since_last_transaction'][df['occupation']==h][df['age']==j][df['gender']==t].mean())"
   ]
  },
  {
   "cell_type": "code",
   "execution_count": 40,
   "metadata": {},
   "outputs": [
    {
     "name": "stdout",
     "output_type": "stream",
     "text": [
      "Customer category: Young company\n",
      "nan\n",
      "Customer category: Young retired\n",
      "nan\n",
      "Customer category: Young salaried\n",
      "109.18181818181819\n",
      "Customer category: Young self_employed\n",
      "106.24285714285715\n",
      "Customer category: Young student\n",
      "117.29242424242425\n",
      "Customer category: MiddleAged company\n",
      "100.64285714285714\n",
      "Customer category: MiddleAged retired\n",
      "73.58823529411765\n",
      "Customer category: MiddleAged salaried\n",
      "62.52121212121212\n",
      "Customer category: MiddleAged self_employed\n",
      "69.17130456982385\n",
      "Customer category: MiddleAged student\n",
      "75.48491155046827\n",
      "Customer category: Old company\n",
      "52.0\n",
      "Customer category: Old retired\n",
      "67.90914385556202\n",
      "Customer category: Old salaried\n",
      "65.13136288998358\n",
      "Customer category: Old self_employed\n",
      "74.489689376142\n",
      "Customer category: Old student\n",
      "67.5\n"
     ]
    }
   ],
   "source": [
    "for j in l5:\n",
    "    for h in l7:\n",
    "        print('Customer category:', j, h)\n",
    "        print(df['days_since_last_transaction'][df['occupation']==h][df['age']==j].mean())"
   ]
  },
  {
   "cell_type": "code",
   "execution_count": 41,
   "metadata": {},
   "outputs": [
    {
     "name": "stdout",
     "output_type": "stream",
     "text": [
      "Customer category: company Male\n",
      "37.0\n",
      "Customer category: company Female\n",
      "53.5\n",
      "Customer category: retired Male\n",
      "31.0\n",
      "Customer category: retired Female\n",
      "32.0\n",
      "Customer category: salaried Male\n",
      "24.0\n",
      "Customer category: salaried Female\n",
      "30.0\n",
      "Customer category: self_employed Male\n",
      "27.0\n",
      "Customer category: self_employed Female\n",
      "39.0\n",
      "Customer category: student Male\n",
      "49.0\n",
      "Customer category: student Female\n",
      "59.0\n"
     ]
    }
   ],
   "source": [
    "for h in l7:\n",
    "    for t in l4:\n",
    "        print('Customer category:', h, t)\n",
    "        print(df['days_since_last_transaction'][df['occupation']==h][df['gender']==t].median())"
   ]
  },
  {
   "cell_type": "code",
   "execution_count": 42,
   "metadata": {},
   "outputs": [
    {
     "name": "stdout",
     "output_type": "stream",
     "text": [
      "Customer category: Young Male\n",
      "107.6\n",
      "Customer category: Young Female\n",
      "125.10526315789474\n",
      "Customer category: MiddleAged Male\n",
      "61.0344669117647\n",
      "Customer category: MiddleAged Female\n",
      "77.2060062508493\n",
      "Customer category: Old Male\n",
      "69.77291037260825\n",
      "Customer category: Old Female\n",
      "75.0666062528319\n"
     ]
    }
   ],
   "source": [
    "for j in l5:\n",
    "    for t in l4:\n",
    "        print('Customer category:', j, t)\n",
    "        print(df['days_since_last_transaction'][df['age']==j][df['gender']==t].mean())"
   ]
  },
  {
   "cell_type": "code",
   "execution_count": 43,
   "metadata": {},
   "outputs": [
    {
     "data": {
      "text/plain": [
       "<matplotlib.axes._subplots.AxesSubplot at 0x2e3762d3f48>"
      ]
     },
     "execution_count": 43,
     "metadata": {},
     "output_type": "execute_result"
    },
    {
     "data": {
      "image/png": "[encoded data removed]",
      "text/plain": [
       "<Figure size 432x288 with 1 Axes>"
      ]
     },
     "metadata": {
      "needs_background": "light"
     },
     "output_type": "display_data"
    }
   ],
   "source": [
    "df['days_since_last_transaction'].plot.box()"
   ]
  },
  {
   "cell_type": "code",
   "execution_count": 44,
   "metadata": {},
   "outputs": [
    {
     "name": "stderr",
     "output_type": "stream",
     "text": [
      "C:\\ProgramData\\Anaconda3\\lib\\site-packages\\ipykernel_launcher.py:6: SettingWithCopyWarning: \n",
      "A value is trying to be set on a copy of a slice from a DataFrame\n",
      "\n",
      "See the caveats in the documentation: https://pandas.pydata.org/pandas-docs/stable/user_guide/indexing.html#returning-a-view-versus-a-copy\n",
      "  \n",
      "C:\\ProgramData\\Anaconda3\\lib\\site-packages\\ipykernel_launcher.py:8: SettingWithCopyWarning: \n",
      "A value is trying to be set on a copy of a slice from a DataFrame\n",
      "\n",
      "See the caveats in the documentation: https://pandas.pydata.org/pandas-docs/stable/user_guide/indexing.html#returning-a-view-versus-a-copy\n",
      "  \n"
     ]
    }
   ],
   "source": [
    "li1 = [37.0, 31.0, 24.0, 27.0, 49.0]\n",
    "li2 = [53.5, 32.0, 30.0, 39.0, 59.0]\n",
    "for i in range(0, len(df)):\n",
    "    if pd.isnull(df['days_since_last_transaction'][i])==True:\n",
    "        if df['gender'][i]=='Male':\n",
    "            df['days_since_last_transaction'][i] = li1[l7.index(df['occupation'][i])]\n",
    "        elif df['gender'][i]=='Female':\n",
    "            df['days_since_last_transaction'][i] = li2[l7.index(df['occupation'][i])]"
   ]
  },
  {
   "cell_type": "code",
   "execution_count": 45,
   "metadata": {},
   "outputs": [
    {
     "data": {
      "text/plain": [
       "customer_id                       0\n",
       "vintage                           0\n",
       "age                               0\n",
       "gender                            0\n",
       "dependents                        0\n",
       "occupation                        0\n",
       "city                              0\n",
       "customer_nw_category              0\n",
       "branch_code                       0\n",
       "days_since_last_transaction       0\n",
       "current_balance                   0\n",
       "previous_month_end_balance        0\n",
       "average_monthly_balance_prevQ     0\n",
       "average_monthly_balance_prevQ2    0\n",
       "current_month_credit              0\n",
       "previous_month_credit             0\n",
       "current_month_debit               0\n",
       "previous_month_debit              0\n",
       "current_month_balance             0\n",
       "previous_month_balance            0\n",
       "churn                             0\n",
       "dtype: int64"
      ]
     },
     "execution_count": 45,
     "metadata": {},
     "output_type": "execute_result"
    }
   ],
   "source": [
    "df.isnull().sum()"
   ]
  },
  {
   "cell_type": "code",
   "execution_count": 46,
   "metadata": {},
   "outputs": [
    {
     "data": {
      "text/plain": [
       "customer_id                          int64\n",
       "vintage                              int64\n",
       "age                               category\n",
       "gender                              object\n",
       "dependents                         float64\n",
       "occupation                          object\n",
       "city                               float64\n",
       "customer_nw_category                 int64\n",
       "branch_code                          int64\n",
       "days_since_last_transaction        float64\n",
       "current_balance                    float64\n",
       "previous_month_end_balance         float64\n",
       "average_monthly_balance_prevQ      float64\n",
       "average_monthly_balance_prevQ2     float64\n",
       "current_month_credit               float64\n",
       "previous_month_credit              float64\n",
       "current_month_debit                float64\n",
       "previous_month_debit               float64\n",
       "current_month_balance              float64\n",
       "previous_month_balance             float64\n",
       "churn                                int64\n",
       "dtype: object"
      ]
     },
     "execution_count": 46,
     "metadata": {},
     "output_type": "execute_result"
    }
   ],
   "source": [
    "df.dtypes"
   ]
  },
  {
   "cell_type": "code",
   "execution_count": 47,
   "metadata": {},
   "outputs": [
    {
     "data": {
      "text/plain": [
       "MiddleAged    20252\n",
       "Old            7052\n",
       "Young          1078\n",
       "Name: age, dtype: int64"
      ]
     },
     "execution_count": 47,
     "metadata": {},
     "output_type": "execute_result"
    }
   ],
   "source": [
    "df['age'].value_counts()"
   ]
  },
  {
   "cell_type": "markdown",
   "metadata": {},
   "source": [
    "One hot encoding of categorical features."
   ]
  },
  {
   "cell_type": "code",
   "execution_count": 48,
   "metadata": {},
   "outputs": [],
   "source": [
    "newdf = pd.get_dummies(df)"
   ]
  },
  {
   "cell_type": "code",
   "execution_count": 49,
   "metadata": {
    "scrolled": false
   },
   "outputs": [
    {
     "data": {
      "text/plain": [
       "(   customer_id  vintage  dependents    city  customer_nw_category  \\\n",
       " 0            1     3135         0.0   187.0                     2   \n",
       " 1            2      310         0.0  1020.0                     2   \n",
       " 2            4     2356         0.0   146.0                     2   \n",
       " 3            5      478         0.0  1020.0                     2   \n",
       " 4            6     2531         2.0  1494.0                     3   \n",
       " \n",
       "    branch_code  days_since_last_transaction  current_balance  \\\n",
       " 0          755                        224.0          1458.71   \n",
       " 1         3214                         60.0          5390.37   \n",
       " 2           41                         24.0          3913.16   \n",
       " 3          582                        147.0          2291.91   \n",
       " 4          388                         58.0           927.72   \n",
       " \n",
       "    previous_month_end_balance  average_monthly_balance_prevQ  ...  age_Young  \\\n",
       " 0                     1458.71                        1458.71  ...          0   \n",
       " 1                     8704.66                        7799.26  ...          0   \n",
       " 2                     5815.29                        4910.17  ...          0   \n",
       " 3                     2291.91                        2084.54  ...          0   \n",
       " 4                     1401.72                        1643.31  ...          0   \n",
       " \n",
       "    age_MiddleAged  age_Old  gender_Female  gender_Male  occupation_company  \\\n",
       " 0               0        1              0            1                   0   \n",
       " 1               1        0              0            1                   0   \n",
       " 2               1        0              0            1                   0   \n",
       " 3               0        1              0            1                   0   \n",
       " 4               1        0              0            1                   0   \n",
       " \n",
       "    occupation_retired  occupation_salaried  occupation_self_employed  \\\n",
       " 0                   0                    0                         1   \n",
       " 1                   0                    0                         1   \n",
       " 2                   0                    1                         0   \n",
       " 3                   0                    0                         1   \n",
       " 4                   0                    0                         1   \n",
       " \n",
       "    occupation_student  \n",
       " 0                   0  \n",
       " 1                   0  \n",
       " 2                   0  \n",
       " 3                   0  \n",
       " 4                   0  \n",
       " \n",
       " [5 rows x 28 columns],\n",
       " (28382, 28))"
      ]
     },
     "execution_count": 49,
     "metadata": {},
     "output_type": "execute_result"
    }
   ],
   "source": [
    "newdf.head(), newdf.shape"
   ]
  },
  {
   "cell_type": "code",
   "execution_count": 50,
   "metadata": {},
   "outputs": [],
   "source": [
    "newdf.drop(['customer_id'], axis = 1, inplace = True)"
   ]
  },
  {
   "cell_type": "code",
   "execution_count": 51,
   "metadata": {},
   "outputs": [
    {
     "data": {
      "text/plain": [
       "(28382, 27)"
      ]
     },
     "execution_count": 51,
     "metadata": {},
     "output_type": "execute_result"
    }
   ],
   "source": [
    "newdf.shape"
   ]
  },
  {
   "cell_type": "code",
   "execution_count": 52,
   "metadata": {},
   "outputs": [
    {
     "data": {
      "text/plain": [
       "vintage                             int64\n",
       "dependents                        float64\n",
       "city                              float64\n",
       "customer_nw_category                int64\n",
       "branch_code                         int64\n",
       "days_since_last_transaction       float64\n",
       "current_balance                   float64\n",
       "previous_month_end_balance        float64\n",
       "average_monthly_balance_prevQ     float64\n",
       "average_monthly_balance_prevQ2    float64\n",
       "current_month_credit              float64\n",
       "previous_month_credit             float64\n",
       "current_month_debit               float64\n",
       "previous_month_debit              float64\n",
       "current_month_balance             float64\n",
       "previous_month_balance            float64\n",
       "churn                               int64\n",
       "age_Young                           uint8\n",
       "age_MiddleAged                      uint8\n",
       "age_Old                             uint8\n",
       "gender_Female                       uint8\n",
       "gender_Male                         uint8\n",
       "occupation_company                  uint8\n",
       "occupation_retired                  uint8\n",
       "occupation_salaried                 uint8\n",
       "occupation_self_employed            uint8\n",
       "occupation_student                  uint8\n",
       "dtype: object"
      ]
     },
     "execution_count": 52,
     "metadata": {},
     "output_type": "execute_result"
    }
   ],
   "source": [
    "newdf.dtypes"
   ]
  },
  {
   "cell_type": "code",
   "execution_count": 53,
   "metadata": {},
   "outputs": [
    {
     "data": {
      "text/plain": [
       "((28382, 26), (28382,))"
      ]
     },
     "execution_count": 53,
     "metadata": {},
     "output_type": "execute_result"
    }
   ],
   "source": [
    "X = newdf.drop(['churn'], axis = 1)\n",
    "y = newdf['churn']\n",
    "X.shape, y.shape"
   ]
  },
  {
   "cell_type": "code",
   "execution_count": 54,
   "metadata": {},
   "outputs": [],
   "source": [
    "from sklearn.model_selection import train_test_split as tts"
   ]
  },
  {
   "cell_type": "code",
   "execution_count": 55,
   "metadata": {},
   "outputs": [],
   "source": [
    "train_X, test_X, train_y, test_y = tts(X, y, random_state = 52, stratify = y)"
   ]
  },
  {
   "cell_type": "code",
   "execution_count": 56,
   "metadata": {},
   "outputs": [],
   "source": [
    "from sklearn.linear_model import LogisticRegression as LR\n",
    "from sklearn.neighbors import KNeighborsClassifier as KNN\n",
    "from sklearn.tree import DecisionTreeClassifier as DT"
   ]
  },
  {
   "cell_type": "code",
   "execution_count": 57,
   "metadata": {},
   "outputs": [
    {
     "name": "stderr",
     "output_type": "stream",
     "text": [
      "C:\\ProgramData\\Anaconda3\\lib\\site-packages\\sklearn\\linear_model\\_logistic.py:940: ConvergenceWarning: lbfgs failed to converge (status=1):\n",
      "STOP: TOTAL NO. of ITERATIONS REACHED LIMIT.\n",
      "\n",
      "Increase the number of iterations (max_iter) or scale the data as shown in:\n",
      "    https://scikit-learn.org/stable/modules/preprocessing.html\n",
      "Please also refer to the documentation for alternative solver options:\n",
      "    https://scikit-learn.org/stable/modules/linear_model.html#logistic-regression\n",
      "  extra_warning_msg=_LOGISTIC_SOLVER_CONVERGENCE_MSG)\n"
     ]
    },
    {
     "data": {
      "text/plain": [
       "(array([0, 0, 0, 0, 0, 0, 0, 0, 0, 0], dtype=int64), 0.8248308906426156)"
      ]
     },
     "execution_count": 57,
     "metadata": {},
     "output_type": "execute_result"
    }
   ],
   "source": [
    "model1 = LR()\n",
    "model1.fit(train_X,train_y)\n",
    "pred1 = model1.predict(test_X)\n",
    "pred1[:10], model1.score(test_X, test_y)"
   ]
  },
  {
   "cell_type": "markdown",
   "metadata": {},
   "source": [
    "## KNN algorithm: 'auto'"
   ]
  },
  {
   "cell_type": "code",
   "execution_count": 58,
   "metadata": {},
   "outputs": [],
   "source": [
    "err = []\n",
    "for i in range(1, 50):\n",
    "    temp = KNN(n_neighbors = i, weights = 'distance', algorithm = 'auto')\n",
    "    temp.fit(train_X, train_y)\n",
    "    err.append(temp.score(test_X, test_y))"
   ]
  },
  {
   "cell_type": "code",
   "execution_count": 59,
   "metadata": {},
   "outputs": [],
   "source": [
    "k = range(1, 50)"
   ]
  },
  {
   "cell_type": "code",
   "execution_count": 60,
   "metadata": {},
   "outputs": [
    {
     "data": {
      "text/plain": [
       "(0.85, 0.9)"
      ]
     },
     "execution_count": 60,
     "metadata": {},
     "output_type": "execute_result"
    },
    {
     "data": {
      "image/png": "[encoded data removed]",
      "text/plain": [
       "<Figure size 432x288 with 1 Axes>"
      ]
     },
     "metadata": {
      "needs_background": "light"
     },
     "output_type": "display_data"
    }
   ],
   "source": [
    "plt.plot(k, err)\n",
    "plt.xlabel('k')\n",
    "plt.ylabel('score')\n",
    "plt.xlim(15, 25)\n",
    "plt.ylim(0.85, 0.90)"
   ]
  },
  {
   "cell_type": "markdown",
   "metadata": {},
   "source": [
    "## KNN algorithm: 'ball_tree'"
   ]
  },
  {
   "cell_type": "code",
   "execution_count": 61,
   "metadata": {},
   "outputs": [],
   "source": [
    "err = []\n",
    "for i in range(1, 50):\n",
    "    temp = KNN(n_neighbors = i, weights = 'distance', algorithm = 'ball_tree')\n",
    "    temp.fit(train_X, train_y)\n",
    "    err.append(temp.score(test_X, test_y))"
   ]
  },
  {
   "cell_type": "code",
   "execution_count": 62,
   "metadata": {},
   "outputs": [
    {
     "data": {
      "text/plain": [
       "(0.85, 0.9)"
      ]
     },
     "execution_count": 62,
     "metadata": {},
     "output_type": "execute_result"
    },
    {
     "data": {
      "image/png": "[encoded data removed]",
      "text/plain": [
       "<Figure size 432x288 with 1 Axes>"
      ]
     },
     "metadata": {
      "needs_background": "light"
     },
     "output_type": "display_data"
    }
   ],
   "source": [
    "plt.plot(k, err)\n",
    "plt.xlabel('k')\n",
    "plt.ylabel('score')\n",
    "plt.xlim(15, 25)\n",
    "plt.ylim(0.85, 0.90)"
   ]
  },
  {
   "cell_type": "markdown",
   "metadata": {},
   "source": [
    "## KNN algorithm: 'kd_tree'"
   ]
  },
  {
   "cell_type": "code",
   "execution_count": 63,
   "metadata": {},
   "outputs": [],
   "source": [
    "err = []\n",
    "for i in range(1, 50):\n",
    "    temp = KNN(n_neighbors = i, weights = 'distance', algorithm = 'kd_tree')\n",
    "    temp.fit(train_X, train_y)\n",
    "    err.append(temp.score(test_X, test_y))"
   ]
  },
  {
   "cell_type": "code",
   "execution_count": 64,
   "metadata": {},
   "outputs": [
    {
     "data": {
      "text/plain": [
       "(0.85, 0.9)"
      ]
     },
     "execution_count": 64,
     "metadata": {},
     "output_type": "execute_result"
    },
    {
     "data": {
      "image/png": "[encoded data removed]",
      "text/plain": [
       "<Figure size 432x288 with 1 Axes>"
      ]
     },
     "metadata": {
      "needs_background": "light"
     },
     "output_type": "display_data"
    }
   ],
   "source": [
    "plt.plot(k, err)\n",
    "plt.xlabel('k')\n",
    "plt.ylabel('score')\n",
    "plt.xlim(15, 25)\n",
    "plt.ylim(0.85, 0.90)"
   ]
  },
  {
   "cell_type": "markdown",
   "metadata": {},
   "source": [
    "## KNN algorithm: 'brute'"
   ]
  },
  {
   "cell_type": "code",
   "execution_count": 65,
   "metadata": {},
   "outputs": [],
   "source": [
    "err = []\n",
    "for i in range(1, 50):\n",
    "    temp = KNN(n_neighbors = i, weights = 'distance', algorithm = 'brute')\n",
    "    temp.fit(train_X, train_y)\n",
    "    err.append(temp.score(test_X, test_y))"
   ]
  },
  {
   "cell_type": "code",
   "execution_count": 67,
   "metadata": {},
   "outputs": [
    {
     "data": {
      "text/plain": [
       "(0.85, 0.9)"
      ]
     },
     "execution_count": 67,
     "metadata": {},
     "output_type": "execute_result"
    },
    {
     "data": {
      "image/png": "[encoded data removed]",
      "text/plain": [
       "<Figure size 432x288 with 1 Axes>"
      ]
     },
     "metadata": {
      "needs_background": "light"
     },
     "output_type": "display_data"
    }
   ],
   "source": [
    "plt.plot(k, err)\n",
    "plt.xlabel('k')\n",
    "plt.ylabel('score')\n",
    "plt.xlim(15, 25)\n",
    "plt.ylim(0.85, 0.90)"
   ]
  },
  {
   "cell_type": "code",
   "execution_count": 68,
   "metadata": {},
   "outputs": [
    {
     "data": {
      "text/plain": [
       "(array([0, 0, 0, 0, 0, 1, 0, 0, 0, 0], dtype=int64), 0.8554114994363021)"
      ]
     },
     "execution_count": 68,
     "metadata": {},
     "output_type": "execute_result"
    }
   ],
   "source": [
    "model2 = KNN(n_neighbors = 23, weights = 'distance', algorithm = 'ball_tree')\n",
    "model2.fit(train_X, train_y)\n",
    "pred2 = model2.predict(test_X)\n",
    "pred2[:10], model2.score(test_X, test_y)"
   ]
  },
  {
   "cell_type": "markdown",
   "metadata": {},
   "source": [
    "## Decision Tree"
   ]
  },
  {
   "cell_type": "code",
   "execution_count": 69,
   "metadata": {},
   "outputs": [],
   "source": [
    "list1 = ['gini', 'entropy']\n",
    "list2 = ['best', 'random']\n",
    "K = range(1, 30)"
   ]
  },
  {
   "cell_type": "markdown",
   "metadata": {},
   "source": [
    "gini impurity, best split"
   ]
  },
  {
   "cell_type": "code",
   "execution_count": 70,
   "metadata": {},
   "outputs": [],
   "source": [
    "err = []\n",
    "for i in range(1, 30):\n",
    "    temp = DT(max_depth = i, criterion = list1[0], splitter = list2[0])\n",
    "    temp.fit(train_X, train_y)\n",
    "    err.append(temp.score(test_X, test_y))"
   ]
  },
  {
   "cell_type": "code",
   "execution_count": 71,
   "metadata": {},
   "outputs": [
    {
     "data": {
      "text/plain": [
       "(0.85, 0.86)"
      ]
     },
     "execution_count": 71,
     "metadata": {},
     "output_type": "execute_result"
    },
    {
     "data": {
      "image/png": "[encoded data removed]",
      "text/plain": [
       "<Figure size 432x288 with 1 Axes>"
      ]
     },
     "metadata": {
      "needs_background": "light"
     },
     "output_type": "display_data"
    }
   ],
   "source": [
    "plt.plot(K, err)\n",
    "plt.xlabel('k')\n",
    "plt.ylabel('score')\n",
    "plt.xlim(5, 10)\n",
    "plt.ylim(0.85, 0.86)"
   ]
  },
  {
   "cell_type": "markdown",
   "metadata": {},
   "source": [
    "gini impurity, random best split"
   ]
  },
  {
   "cell_type": "code",
   "execution_count": 72,
   "metadata": {},
   "outputs": [],
   "source": [
    "err = []\n",
    "for i in range(1, 30):\n",
    "    temp = DT(max_depth = i, criterion = list1[0], splitter = list2[1])\n",
    "    temp.fit(train_X, train_y)\n",
    "    err.append(temp.score(test_X, test_y))"
   ]
  },
  {
   "cell_type": "code",
   "execution_count": 73,
   "metadata": {},
   "outputs": [
    {
     "data": {
      "text/plain": [
       "Text(0, 0.5, 'score')"
      ]
     },
     "execution_count": 73,
     "metadata": {},
     "output_type": "execute_result"
    },
    {
     "data": {
      "image/png": "[encoded data removed]",
      "text/plain": [
       "<Figure size 432x288 with 1 Axes>"
      ]
     },
     "metadata": {
      "needs_background": "light"
     },
     "output_type": "display_data"
    }
   ],
   "source": [
    "plt.plot(K, err)\n",
    "plt.xlabel('k')\n",
    "plt.ylabel('score')"
   ]
  },
  {
   "cell_type": "markdown",
   "metadata": {},
   "source": [
    "entropy, best split"
   ]
  },
  {
   "cell_type": "code",
   "execution_count": 74,
   "metadata": {},
   "outputs": [],
   "source": [
    "err = []\n",
    "for i in range(1, 30):\n",
    "    temp = DT(max_depth = i, criterion = list1[1], splitter = list2[0])\n",
    "    temp.fit(train_X, train_y)\n",
    "    err.append(temp.score(test_X, test_y))"
   ]
  },
  {
   "cell_type": "code",
   "execution_count": 75,
   "metadata": {},
   "outputs": [
    {
     "data": {
      "text/plain": [
       "(0.85, 0.86)"
      ]
     },
     "execution_count": 75,
     "metadata": {},
     "output_type": "execute_result"
    },
    {
     "data": {
      "image/png": "[encoded data removed]",
      "text/plain": [
       "<Figure size 432x288 with 1 Axes>"
      ]
     },
     "metadata": {
      "needs_background": "light"
     },
     "output_type": "display_data"
    }
   ],
   "source": [
    "plt.plot(K, err)\n",
    "plt.xlabel('k')\n",
    "plt.ylabel('score')\n",
    "plt.xlim(5, 10)\n",
    "plt.ylim(0.85, 0.86)"
   ]
  },
  {
   "cell_type": "markdown",
   "metadata": {},
   "source": [
    "entropy, random best split"
   ]
  },
  {
   "cell_type": "code",
   "execution_count": 76,
   "metadata": {},
   "outputs": [],
   "source": [
    "err = []\n",
    "for i in range(1, 30):\n",
    "    temp = DT(max_depth = i, criterion = list1[1], splitter = list2[1])\n",
    "    temp.fit(train_X, train_y)\n",
    "    err.append(temp.score(test_X, test_y))"
   ]
  },
  {
   "cell_type": "code",
   "execution_count": 77,
   "metadata": {},
   "outputs": [
    {
     "data": {
      "text/plain": [
       "Text(0, 0.5, 'score')"
      ]
     },
     "execution_count": 77,
     "metadata": {},
     "output_type": "execute_result"
    },
    {
     "data": {
      "image/png": "[encoded data removed]",
      "text/plain": [
       "<Figure size 432x288 with 1 Axes>"
      ]
     },
     "metadata": {
      "needs_background": "light"
     },
     "output_type": "display_data"
    }
   ],
   "source": [
    "plt.plot(K, err)\n",
    "plt.xlabel('k')\n",
    "plt.ylabel('score')"
   ]
  },
  {
   "cell_type": "code",
   "execution_count": 78,
   "metadata": {},
   "outputs": [
    {
     "data": {
      "text/plain": [
       "(array([0, 0, 0, 0, 0, 0, 0, 0, 0, 0], dtype=int64), 0.8558342728297632)"
      ]
     },
     "execution_count": 78,
     "metadata": {},
     "output_type": "execute_result"
    }
   ],
   "source": [
    "model3 = DT(max_depth = 7, criterion = 'gini', splitter = 'best')\n",
    "model3.fit(train_X, train_y)\n",
    "pred3 = model3.predict(test_X)\n",
    "pred3[:10], model3.score(test_X, test_y)"
   ]
  },
  {
   "cell_type": "code",
   "execution_count": 79,
   "metadata": {},
   "outputs": [],
   "source": [
    "test = pd.DataFrame(columns=['M1', 'M2', 'M3', 'Actual'])\n",
    "test['M1'] = pred1\n",
    "test['M2'] = pred2\n",
    "test['M3'] = pred3\n",
    "test['Actual'] = np.array(test_y)"
   ]
  },
  {
   "cell_type": "code",
   "execution_count": 80,
   "metadata": {},
   "outputs": [
    {
     "data": {
      "text/plain": [
       "0    6934\n",
       "1     162\n",
       "Name: M1, dtype: int64"
      ]
     },
     "execution_count": 80,
     "metadata": {},
     "output_type": "execute_result"
    }
   ],
   "source": [
    "test['M1'].value_counts()"
   ]
  },
  {
   "cell_type": "code",
   "execution_count": 81,
   "metadata": {},
   "outputs": [
    {
     "data": {
      "text/plain": [
       "0    6415\n",
       "1     681\n",
       "Name: M2, dtype: int64"
      ]
     },
     "execution_count": 81,
     "metadata": {},
     "output_type": "execute_result"
    }
   ],
   "source": [
    "test['M2'].value_counts()"
   ]
  },
  {
   "cell_type": "code",
   "execution_count": 82,
   "metadata": {},
   "outputs": [
    {
     "data": {
      "text/plain": [
       "0    6232\n",
       "1     864\n",
       "Name: M3, dtype: int64"
      ]
     },
     "execution_count": 82,
     "metadata": {},
     "output_type": "execute_result"
    }
   ],
   "source": [
    "test['M3'].value_counts()"
   ]
  },
  {
   "cell_type": "code",
   "execution_count": 83,
   "metadata": {},
   "outputs": [
    {
     "data": {
      "text/plain": [
       "0    5781\n",
       "1    1315\n",
       "Name: Actual, dtype: int64"
      ]
     },
     "execution_count": 83,
     "metadata": {},
     "output_type": "execute_result"
    }
   ],
   "source": [
    "test['Actual'].value_counts()"
   ]
  },
  {
   "cell_type": "code",
   "execution_count": 84,
   "metadata": {},
   "outputs": [
    {
     "data": {
      "text/plain": [
       "(0.8248308906426156, 0.8554114994363021, 0.8558342728297632)"
      ]
     },
     "execution_count": 84,
     "metadata": {},
     "output_type": "execute_result"
    }
   ],
   "source": [
    "m1_score= model1.score(test_X, test_y)\n",
    "m2_score= model2.score(test_X, test_y)\n",
    "m3_score= model3.score(test_X, test_y)\n",
    "m1_score, m2_score, m3_score"
   ]
  },
  {
   "cell_type": "markdown",
   "metadata": {},
   "source": [
    "Max Voting"
   ]
  },
  {
   "cell_type": "code",
   "execution_count": 85,
   "metadata": {},
   "outputs": [],
   "source": [
    "from statistics import mode\n",
    "final_pred = np.array([])\n",
    "for i in range(0, len(test_X)):\n",
    "    final_pred = np.append(final_pred, mode([pred1[i], pred2[i], pred3[i]]))"
   ]
  },
  {
   "cell_type": "code",
   "execution_count": 86,
   "metadata": {},
   "outputs": [],
   "source": [
    "from sklearn.metrics import accuracy_score"
   ]
  },
  {
   "cell_type": "code",
   "execution_count": 161,
   "metadata": {},
   "outputs": [],
   "source": [
    "max_voting_accuracy = accuracy_score(test_y, final_pred)"
   ]
  },
  {
   "cell_type": "markdown",
   "metadata": {},
   "source": [
    "Rank average ensemble"
   ]
  },
  {
   "cell_type": "code",
   "execution_count": 88,
   "metadata": {},
   "outputs": [
    {
     "data": {
      "text/html": [
       "<div>\n",
       "<style scoped>\n",
       "    .dataframe tbody tr th:only-of-type {\n",
       "        vertical-align: middle;\n",
       "    }\n",
       "\n",
       "    .dataframe tbody tr th {\n",
       "        vertical-align: top;\n",
       "    }\n",
       "\n",
       "    .dataframe thead th {\n",
       "        text-align: right;\n",
       "    }\n",
       "</style>\n",
       "<table border=\"1\" class=\"dataframe\">\n",
       "  <thead>\n",
       "    <tr style=\"text-align: right;\">\n",
       "      <th></th>\n",
       "      <th>score</th>\n",
       "    </tr>\n",
       "  </thead>\n",
       "  <tbody>\n",
       "    <tr>\n",
       "      <th>1</th>\n",
       "      <td>0.824831</td>\n",
       "    </tr>\n",
       "    <tr>\n",
       "      <th>2</th>\n",
       "      <td>0.855411</td>\n",
       "    </tr>\n",
       "    <tr>\n",
       "      <th>3</th>\n",
       "      <td>0.855834</td>\n",
       "    </tr>\n",
       "  </tbody>\n",
       "</table>\n",
       "</div>"
      ],
      "text/plain": [
       "      score\n",
       "1  0.824831\n",
       "2  0.855411\n",
       "3  0.855834"
      ]
     },
     "execution_count": 88,
     "metadata": {},
     "output_type": "execute_result"
    }
   ],
   "source": [
    "i = [1,2,3]\n",
    "modelscores = [m1_score,m2_score,m3_score]\n",
    "\n",
    "rank = pd.DataFrame({'score': modelscores}, index = i)\n",
    "rank"
   ]
  },
  {
   "cell_type": "code",
   "execution_count": 89,
   "metadata": {},
   "outputs": [
    {
     "data": {
      "text/html": [
       "<div>\n",
       "<style scoped>\n",
       "    .dataframe tbody tr th:only-of-type {\n",
       "        vertical-align: middle;\n",
       "    }\n",
       "\n",
       "    .dataframe tbody tr th {\n",
       "        vertical-align: top;\n",
       "    }\n",
       "\n",
       "    .dataframe thead th {\n",
       "        text-align: right;\n",
       "    }\n",
       "</style>\n",
       "<table border=\"1\" class=\"dataframe\">\n",
       "  <thead>\n",
       "    <tr style=\"text-align: right;\">\n",
       "      <th></th>\n",
       "      <th>score</th>\n",
       "    </tr>\n",
       "  </thead>\n",
       "  <tbody>\n",
       "    <tr>\n",
       "      <th>1</th>\n",
       "      <td>0.824831</td>\n",
       "    </tr>\n",
       "    <tr>\n",
       "      <th>2</th>\n",
       "      <td>0.855411</td>\n",
       "    </tr>\n",
       "    <tr>\n",
       "      <th>3</th>\n",
       "      <td>0.855834</td>\n",
       "    </tr>\n",
       "  </tbody>\n",
       "</table>\n",
       "</div>"
      ],
      "text/plain": [
       "      score\n",
       "1  0.824831\n",
       "2  0.855411\n",
       "3  0.855834"
      ]
     },
     "execution_count": 89,
     "metadata": {},
     "output_type": "execute_result"
    }
   ],
   "source": [
    "sorted_rank = rank.sort_values('score')\n",
    "sorted_rank"
   ]
  },
  {
   "cell_type": "code",
   "execution_count": 90,
   "metadata": {},
   "outputs": [],
   "source": [
    "sorted_rank['rank'] = [i for i in range(1, 4)]"
   ]
  },
  {
   "cell_type": "code",
   "execution_count": 91,
   "metadata": {},
   "outputs": [
    {
     "data": {
      "text/html": [
       "<div>\n",
       "<style scoped>\n",
       "    .dataframe tbody tr th:only-of-type {\n",
       "        vertical-align: middle;\n",
       "    }\n",
       "\n",
       "    .dataframe tbody tr th {\n",
       "        vertical-align: top;\n",
       "    }\n",
       "\n",
       "    .dataframe thead th {\n",
       "        text-align: right;\n",
       "    }\n",
       "</style>\n",
       "<table border=\"1\" class=\"dataframe\">\n",
       "  <thead>\n",
       "    <tr style=\"text-align: right;\">\n",
       "      <th></th>\n",
       "      <th>score</th>\n",
       "      <th>rank</th>\n",
       "    </tr>\n",
       "  </thead>\n",
       "  <tbody>\n",
       "    <tr>\n",
       "      <th>1</th>\n",
       "      <td>0.824831</td>\n",
       "      <td>1</td>\n",
       "    </tr>\n",
       "    <tr>\n",
       "      <th>2</th>\n",
       "      <td>0.855411</td>\n",
       "      <td>2</td>\n",
       "    </tr>\n",
       "    <tr>\n",
       "      <th>3</th>\n",
       "      <td>0.855834</td>\n",
       "      <td>3</td>\n",
       "    </tr>\n",
       "  </tbody>\n",
       "</table>\n",
       "</div>"
      ],
      "text/plain": [
       "      score  rank\n",
       "1  0.824831     1\n",
       "2  0.855411     2\n",
       "3  0.855834     3"
      ]
     },
     "execution_count": 91,
     "metadata": {},
     "output_type": "execute_result"
    }
   ],
   "source": [
    "sorted_rank"
   ]
  },
  {
   "cell_type": "code",
   "execution_count": 92,
   "metadata": {},
   "outputs": [
    {
     "data": {
      "text/html": [
       "<div>\n",
       "<style scoped>\n",
       "    .dataframe tbody tr th:only-of-type {\n",
       "        vertical-align: middle;\n",
       "    }\n",
       "\n",
       "    .dataframe tbody tr th {\n",
       "        vertical-align: top;\n",
       "    }\n",
       "\n",
       "    .dataframe thead th {\n",
       "        text-align: right;\n",
       "    }\n",
       "</style>\n",
       "<table border=\"1\" class=\"dataframe\">\n",
       "  <thead>\n",
       "    <tr style=\"text-align: right;\">\n",
       "      <th></th>\n",
       "      <th>score</th>\n",
       "      <th>rank</th>\n",
       "      <th>weight</th>\n",
       "    </tr>\n",
       "  </thead>\n",
       "  <tbody>\n",
       "    <tr>\n",
       "      <th>1</th>\n",
       "      <td>0.824831</td>\n",
       "      <td>1</td>\n",
       "      <td>0.166667</td>\n",
       "    </tr>\n",
       "    <tr>\n",
       "      <th>2</th>\n",
       "      <td>0.855411</td>\n",
       "      <td>2</td>\n",
       "      <td>0.333333</td>\n",
       "    </tr>\n",
       "    <tr>\n",
       "      <th>3</th>\n",
       "      <td>0.855834</td>\n",
       "      <td>3</td>\n",
       "      <td>0.500000</td>\n",
       "    </tr>\n",
       "  </tbody>\n",
       "</table>\n",
       "</div>"
      ],
      "text/plain": [
       "      score  rank    weight\n",
       "1  0.824831     1  0.166667\n",
       "2  0.855411     2  0.333333\n",
       "3  0.855834     3  0.500000"
      ]
     },
     "execution_count": 92,
     "metadata": {},
     "output_type": "execute_result"
    }
   ],
   "source": [
    "sorted_rank['weight'] = sorted_rank['rank']/sorted_rank['rank'].sum()\n",
    "sorted_rank"
   ]
  },
  {
   "cell_type": "code",
   "execution_count": 158,
   "metadata": {},
   "outputs": [
    {
     "data": {
      "text/plain": [
       "array([0., 0., 0., ..., 0., 0., 0.])"
      ]
     },
     "execution_count": 158,
     "metadata": {},
     "output_type": "execute_result"
    }
   ],
   "source": [
    "rankedpred1 = pred1*float(sorted_rank.loc[[1],['weight']].values)\n",
    "rankedpred2 = pred2*float(sorted_rank.loc[[2],['weight']].values)\n",
    "rankedpred3 = pred3*float(sorted_rank.loc[[3],['weight']].values)\n",
    "ranked_prediction = rankedpred1 + rankedpred2 + rankedpred3\n",
    "ranked_prediction"
   ]
  },
  {
   "cell_type": "code",
   "execution_count": 159,
   "metadata": {},
   "outputs": [],
   "source": [
    "for i in range(0, len(ranked_prediction)):\n",
    "    if ranked_prediction[i]>0.40:\n",
    "        ranked_prediction[i] = 1\n",
    "    else:\n",
    "        ranked_prediction[i] = 0"
   ]
  },
  {
   "cell_type": "code",
   "execution_count": 162,
   "metadata": {},
   "outputs": [],
   "source": [
    "rank_average_accuracy = accuracy_score(ranked_prediction, test_y)"
   ]
  },
  {
   "cell_type": "code",
   "execution_count": 163,
   "metadata": {},
   "outputs": [
    {
     "name": "stdout",
     "output_type": "stream",
     "text": [
      "Max Voting accuracy: 0.8561161217587373 \n",
      "Rank Average accuracy: 0.8585118376550169\n"
     ]
    }
   ],
   "source": [
    "print('Max Voting accuracy:', max_voting_accuracy, '\\nRank Average accuracy:', rank_average_accuracy)"
   ]
  },
  {
   "cell_type": "code",
   "execution_count": null,
   "metadata": {},
   "outputs": [],
   "source": []
  }
 ],
 "metadata": {
  "kernelspec": {
   "display_name": "Python 3",
   "language": "python",
   "name": "python3"
  },
  "language_info": {
   "codemirror_mode": {
    "name": "ipython",
    "version": 3
   },
   "file_extension": ".py",
   "mimetype": "text/x-python",
   "name": "python",
   "nbconvert_exporter": "python",
   "pygments_lexer": "ipython3",
   "version": "3.7.6"
  }
 },
 "nbformat": 4,
 "nbformat_minor": 4
}
